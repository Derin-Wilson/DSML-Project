{
 "cells": [
  {
   "cell_type": "code",
   "execution_count": 1,
   "metadata": {},
   "outputs": [],
   "source": [
    "import numpy as np\n",
    "from matplotlib import pyplot as plt\n",
    "from sklearn.metrics import confusion_matrix\n",
    "from sklearn.model_selection import cross_val_predict\n",
    "from sklearn.ensemble import RandomForestClassifier\n",
    "from sklearn.ensemble import RandomForestRegressor"
   ]
  },
  {
   "cell_type": "code",
   "execution_count": 310,
   "metadata": {},
   "outputs": [],
   "source": [
    "from sklearn.metrics import precision_score, recall_score, f1_score, accuracy_score\n",
    "import keras"
   ]
  },
  {
   "cell_type": "code",
   "execution_count": 67,
   "metadata": {},
   "outputs": [],
   "source": [
    "import numpy as np\n",
    "from matplotlib import pyplot as plt\n",
    "from sklearn.model_selection import KFold\n",
    "from sklearn.tree import DecisionTreeRegressor"
   ]
  },
  {
   "cell_type": "code",
   "execution_count": 117,
   "metadata": {},
   "outputs": [],
   "source": [
    "import pandas as pd"
   ]
  },
  {
   "cell_type": "code",
   "execution_count": 2,
   "metadata": {
    "id": "VgOBcneR8QhS"
   },
   "outputs": [],
   "source": [
    "import numpy as np\n",
    "data=np.load('sdss_galaxy_colors.npy')"
   ]
  },
  {
   "cell_type": "code",
   "execution_count": 3,
   "metadata": {
    "colab": {
     "base_uri": "https://localhost:8080/"
    },
    "id": "UsUpUWHz9PEH",
    "outputId": "85c86da2-0270-4b24-a485-494580b0e6c2"
   },
   "outputs": [
    {
     "data": {
      "text/plain": [
       "array([(19.84132, 19.52656, 19.46946, 19.17955, 19.10763, b'QSO', 0.539301  , 6.543622e-05),\n",
       "       (19.86318, 18.66298, 17.84272, 17.38978, 17.14313, b'GALAXY', 0.1645703 , 1.186625e-05),\n",
       "       (19.97362, 18.31421, 17.47922, 17.0744 , 16.76174, b'GALAXY', 0.04190006, 2.183788e-05),\n",
       "       ...,\n",
       "       (19.82667, 18.10038, 17.16133, 16.5796 , 16.19755, b'GALAXY', 0.0784592 , 2.159406e-05),\n",
       "       (19.98672, 19.75385, 19.5713 , 19.27739, 19.25895, b'QSO', 1.567295  , 4.505933e-04),\n",
       "       (18.00024, 17.80957, 17.77302, 17.72663, 17.7264 , b'QSO', 0.4749449 , 6.203324e-05)],\n",
       "      dtype=[('u', '<f8'), ('g', '<f8'), ('r', '<f8'), ('i', '<f8'), ('z', '<f8'), ('spec_class', 'S6'), ('redshift', '<f8'), ('redshift_err', '<f8')])"
      ]
     },
     "execution_count": 3,
     "metadata": {},
     "output_type": "execute_result"
    }
   ],
   "source": [
    "data"
   ]
  },
  {
   "cell_type": "code",
   "execution_count": 5,
   "metadata": {
    "colab": {
     "base_uri": "https://localhost:8080/"
    },
    "id": "7NXW43gj-F4J",
    "outputId": "b820f698-3294-4923-a3a0-7b425c12b056"
   },
   "outputs": [
    {
     "data": {
      "text/plain": [
       "(50000,)"
      ]
     },
     "execution_count": 5,
     "metadata": {},
     "output_type": "execute_result"
    }
   ],
   "source": [
    "data.shape"
   ]
  },
  {
   "cell_type": "code",
   "execution_count": 6,
   "metadata": {
    "colab": {
     "base_uri": "https://localhost:8080/"
    },
    "id": "RszxH4yV-cqw",
    "outputId": "2cfe3421-a488-43bc-e141-758f9b64c793"
   },
   "outputs": [
    {
     "data": {
      "text/plain": [
       "array([19.84132, 19.86318, 19.97362, ..., 19.82667, 19.98672, 18.00024])"
      ]
     },
     "execution_count": 6,
     "metadata": {},
     "output_type": "execute_result"
    }
   ],
   "source": [
    "data['u']"
   ]
  },
  {
   "cell_type": "code",
   "execution_count": 195,
   "metadata": {
    "colab": {
     "base_uri": "https://localhost:8080/"
    },
    "id": "W_HGQfYt-2iE",
    "outputId": "8471b294-4849-4079-acad-864a36f8a61c"
   },
   "outputs": [
    {
     "data": {
      "text/plain": [
       "array([b'QSO', b'GALAXY', b'GALAXY', ..., b'GALAXY', b'QSO', b'QSO'],\n",
       "      dtype='|S6')"
      ]
     },
     "execution_count": 195,
     "metadata": {},
     "output_type": "execute_result"
    }
   ],
   "source": [
    "objects=data['spec_class']\n",
    "objects"
   ]
  },
  {
   "cell_type": "code",
   "execution_count": 190,
   "metadata": {
    "colab": {
     "base_uri": "https://localhost:8080/"
    },
    "id": "2LAAdLO5--Rc",
    "outputId": "85c9c671-0d56-4723-fc52-11a630e2f037"
   },
   "outputs": [
    {
     "data": {
      "text/plain": [
       "b'GALAXY'"
      ]
     },
     "execution_count": 190,
     "metadata": {},
     "output_type": "execute_result"
    }
   ],
   "source": [
    "objects[1]"
   ]
  },
  {
   "cell_type": "code",
   "execution_count": 196,
   "metadata": {
    "id": "sFkHKIMcCSOR"
   },
   "outputs": [
    {
     "ename": "SyntaxError",
     "evalue": "invalid syntax (<ipython-input-196-203db1c5185a>, line 3)",
     "output_type": "error",
     "traceback": [
      "\u001b[1;36m  File \u001b[1;32m\"<ipython-input-196-203db1c5185a>\"\u001b[1;36m, line \u001b[1;32m3\u001b[0m\n\u001b[1;33m    if objects[a]== b'QSO'\u001b[0m\n\u001b[1;37m                          ^\u001b[0m\n\u001b[1;31mSyntaxError\u001b[0m\u001b[1;31m:\u001b[0m invalid syntax\n"
     ]
    }
   ],
   "source": [
    "Galaxy=0\n",
    "for a in range(49999):\n",
    "    if objects[a]== b'QSO'\n",
    "    Galaxy+=1\n",
    "    "
   ]
  },
  {
   "cell_type": "code",
   "execution_count": 194,
   "metadata": {
    "colab": {
     "base_uri": "https://localhost:8080/"
    },
    "id": "ragYXwhMCUsv",
    "outputId": "8a88bbbe-4acc-4c8c-c646-0d1f6929d769"
   },
   "outputs": [
    {
     "data": {
      "text/plain": [
       "array([(19.84132, 19.52656, 19.46946, 19.17955, 19.10763, b'QSO', 0.539301  , 6.543622e-05),\n",
       "       (19.86318, 18.66298, 17.84272, 17.38978, 17.14313, b'GALAXY', 0.1645703 , 1.186625e-05),\n",
       "       (19.97362, 18.31421, 17.47922, 17.0744 , 16.76174, b'GALAXY', 0.04190006, 2.183788e-05),\n",
       "       ...,\n",
       "       (19.82667, 18.10038, 17.16133, 16.5796 , 16.19755, b'GALAXY', 0.0784592 , 2.159406e-05),\n",
       "       (19.98672, 19.75385, 19.5713 , 19.27739, 19.25895, b'QSO', 1.567295  , 4.505933e-04),\n",
       "       (18.00024, 17.80957, 17.77302, 17.72663, 17.7264 , b'QSO', 0.4749449 , 6.203324e-05)],\n",
       "      dtype=[('u', '<f8'), ('g', '<f8'), ('r', '<f8'), ('i', '<f8'), ('z', '<f8'), ('spec_class', 'S6'), ('redshift', '<f8'), ('redshift_err', '<f8')])"
      ]
     },
     "execution_count": 194,
     "metadata": {},
     "output_type": "execute_result"
    }
   ],
   "source": [
    "data"
   ]
  },
  {
   "cell_type": "code",
   "execution_count": 10,
   "metadata": {
    "id": "qjpHcYlFE52l"
   },
   "outputs": [],
   "source": [
    "a=np.array([[1,2,3],[2,3,4]])"
   ]
  },
  {
   "cell_type": "code",
   "execution_count": 11,
   "metadata": {
    "colab": {
     "base_uri": "https://localhost:8080/"
    },
    "id": "Dy2rwkwBFSR8",
    "outputId": "b9b5390b-c3b5-45ba-d004-b0c495092c5c"
   },
   "outputs": [
    {
     "data": {
      "text/plain": [
       "array([[1, 2, 3],\n",
       "       [2, 3, 4]])"
      ]
     },
     "execution_count": 11,
     "metadata": {},
     "output_type": "execute_result"
    }
   ],
   "source": [
    "a"
   ]
  },
  {
   "cell_type": "code",
   "execution_count": 12,
   "metadata": {
    "colab": {
     "base_uri": "https://localhost:8080/"
    },
    "id": "aaDqAcsAFVzO",
    "outputId": "024ecd40-4827-4aba-9b4e-cdbbcabffad9"
   },
   "outputs": [
    {
     "data": {
      "text/plain": [
       "2"
      ]
     },
     "execution_count": 12,
     "metadata": {},
     "output_type": "execute_result"
    }
   ],
   "source": [
    "a.shape[0]"
   ]
  },
  {
   "cell_type": "markdown",
   "metadata": {
    "id": "cxtPnTHWRwjv"
   },
   "source": [
    "# Regression"
   ]
  },
  {
   "cell_type": "code",
   "execution_count": 4,
   "metadata": {
    "id": "CJiVo_YaGfvP"
   },
   "outputs": [],
   "source": [
    "def get_features_targets(data):\n",
    "  features = np.zeros(shape=(len(data),4))\n",
    "  features[:, 0] = data['u'] - data['g']\n",
    "  features[:, 1] = data['g'] - data['r']\n",
    "  features[:, 2] = data['r'] - data['i']\n",
    "  features[:, 3] = data['i'] - data['z']\n",
    "  targets=data['redshift']\n",
    "  return features, targets"
   ]
  },
  {
   "cell_type": "code",
   "execution_count": 5,
   "metadata": {},
   "outputs": [],
   "source": [
    "def get_features_targets(data):\n",
    "  features = np.zeros(shape=(len(data),4))\n",
    "  features[:, 0] = data['u'] - data['g']\n",
    "  features[:, 1] = data['g'] - data['r']\n",
    "  features[:, 2] = data['r'] - data['i']\n",
    "  features[:, 3] = data['i'] - data['z']\n",
    "  targets=data['redshift']\n",
    "  return features, targets"
   ]
  },
  {
   "cell_type": "code",
   "execution_count": 6,
   "metadata": {
    "id": "yPIi4bJYKIsp"
   },
   "outputs": [
    {
     "data": {
      "text/plain": [
       "array([[3.14760e-01, 5.71000e-02, 2.89910e-01, 7.19200e-02],\n",
       "       [1.20020e+00, 8.20260e-01, 4.52940e-01, 2.46650e-01],\n",
       "       [1.65941e+00, 8.34990e-01, 4.04820e-01, 3.12660e-01],\n",
       "       ...,\n",
       "       [1.72629e+00, 9.39050e-01, 5.81730e-01, 3.82050e-01],\n",
       "       [2.32870e-01, 1.82550e-01, 2.93910e-01, 1.84400e-02],\n",
       "       [1.90670e-01, 3.65500e-02, 4.63900e-02, 2.30000e-04]])"
      ]
     },
     "execution_count": 6,
     "metadata": {},
     "output_type": "execute_result"
    }
   ],
   "source": [
    "X, Y= get_features_targets(data)\n",
    "X"
   ]
  },
  {
   "cell_type": "code",
   "execution_count": 7,
   "metadata": {},
   "outputs": [
    {
     "data": {
      "text/plain": [
       "(50000, 4)"
      ]
     },
     "execution_count": 7,
     "metadata": {},
     "output_type": "execute_result"
    }
   ],
   "source": [
    "X.shape\n"
   ]
  },
  {
   "cell_type": "code",
   "execution_count": 15,
   "metadata": {
    "colab": {
     "base_uri": "https://localhost:8080/"
    },
    "id": "7DT8ebqBODvA",
    "outputId": "05140271-8397-49a5-8659-6f4b1cb93fd1"
   },
   "outputs": [
    {
     "name": "stdout",
     "output_type": "stream",
     "text": [
      "X values : \n",
      " [[0.31476 0.0571  0.28991 0.07192]\n",
      " [1.2002  0.82026 0.45294 0.24665]\n",
      " [1.65941 0.83499 0.40482 0.31266]\n",
      " [1.5653  0.90174 0.49873 0.38671]\n",
      " [1.12483 0.65899 0.36996 0.16539]]\n",
      "Y values : \n",
      " [0.539301   0.1645703  0.04190006 0.04427702 0.04164413]\n"
     ]
    }
   ],
   "source": [
    "print('X values : \\n', X[:5])\n",
    "print('Y values : \\n', Y[:5])"
   ]
  },
  {
   "cell_type": "markdown",
   "metadata": {},
   "source": [
    "# Linear Regression"
   ]
  },
  {
   "cell_type": "code",
   "execution_count": 16,
   "metadata": {
    "id": "bkm7QeDbOdUh"
   },
   "outputs": [],
   "source": [
    "\n",
    "from sklearn.linear_model import LogisticRegression\n",
    "from sklearn.linear_model           import LinearRegression\n",
    "\n",
    "from sklearn.model_selection import train_test_split\n",
    "\n",
    "# creating a train-test split\n",
    "X_train, X_test, Y_train, Y_test = train_test_split( X, Y, \n",
    "                    test_size = 0.4, random_state = 1 )\n"
   ]
  },
  {
   "cell_type": "code",
   "execution_count": 17,
   "metadata": {
    "colab": {
     "base_uri": "https://localhost:8080/"
    },
    "id": "nD4c7HB0OmlI",
    "outputId": "b3c84353-7f8d-4c00-b798-2d1120ba7ac3"
   },
   "outputs": [
    {
     "name": "stdout",
     "output_type": "stream",
     "text": [
      "X_train :  (30000, 4)\n",
      "X_test :  (20000, 4)\n",
      "Y_train :  (30000,)\n",
      "Y_test :  (20000,)\n"
     ]
    }
   ],
   "source": [
    "print('X_train : ', X_train.shape)\n",
    "print('X_test : ', X_test.shape)\n",
    "\n",
    "print('Y_train : ', Y_train.shape)\n",
    "print('Y_test : ', Y_test.shape)"
   ]
  },
  {
   "cell_type": "code",
   "execution_count": 150,
   "metadata": {},
   "outputs": [
    {
     "data": {
      "image/png": "[encoded data removed]",
      "text/plain": [
       "<Figure size 432x288 with 2 Axes>"
      ]
     },
     "metadata": {
      "needs_background": "light"
     },
     "output_type": "display_data"
    }
   ],
   "source": [
    "    data = np.load('sdss_galaxy_colors.npy')\n",
    "    # Get a colour map\n",
    "    cmap = plt.get_cmap('YlOrRd')\n",
    "\n",
    "    # Define our colour indexes u-g and r-i\n",
    "    u_g=data['u']-data['g']\n",
    "    r_i=data['r']-data['i']\n",
    "\n",
    "    # Make a redshift array\n",
    "    redshift=data['redshift']\n",
    "\n",
    "    # Create the plot with plt.scatter and plt.colorbar\n",
    "    plot=plt.scatter(u_g, r_i, s=0.5, lw=0, c=redshift, cmap=cmap)\n",
    "    cb = plt.colorbar(plot)\n",
    "    cb.set_label('Redshift')\n",
    "\n",
    "    # Define your axis labels and plot title\n",
    "    plt.xlabel('Colour index  u-g')\n",
    "    plt.ylabel('Colour index  r-i')\n",
    "    plt.title('Redshift (colour) u-g versus r-i')\n",
    "    # Set any axis limits\n",
    "    plt.xlim(-0.5, 2.5)\n",
    "    plt.ylim(-0.5, 1)\n",
    "\n",
    "    plt.show()"
   ]
  },
  {
   "cell_type": "code",
   "execution_count": 18,
   "metadata": {
    "colab": {
     "base_uri": "https://localhost:8080/"
    },
    "id": "-d681X2kOqp_",
    "outputId": "1b197ee8-ecf8-46a3-8391-44c5d0ed5ad8"
   },
   "outputs": [
    {
     "data": {
      "text/plain": [
       "LinearRegression()"
      ]
     },
     "execution_count": 18,
     "metadata": {},
     "output_type": "execute_result"
    }
   ],
   "source": [
    "LR = LinearRegression()\n",
    "LR.fit(X_train, Y_train)\n"
   ]
  },
  {
   "cell_type": "code",
   "execution_count": 19,
   "metadata": {
    "colab": {
     "base_uri": "https://localhost:8080/"
    },
    "id": "idps9EFjR5ex",
    "outputId": "7909170e-f7d4-462a-a40a-eb8921a753c0"
   },
   "outputs": [
    {
     "name": "stdout",
     "output_type": "stream",
     "text": [
      "Coefficients: \n",
      " [-0.55437533  0.00547378 -0.50539616  0.15636201]\n"
     ]
    }
   ],
   "source": [
    "Y_pred = LR.predict(X_test)\n",
    "print('Coefficients: \\n', LR.coef_)"
   ]
  },
  {
   "cell_type": "code",
   "execution_count": 20,
   "metadata": {
    "colab": {
     "base_uri": "https://localhost:8080/"
    },
    "id": "p1yCxnGcSSkv",
    "outputId": "03e6f5a1-7f1d-46e1-9077-34dd94354715"
   },
   "outputs": [
    {
     "name": "stdout",
     "output_type": "stream",
     "text": [
      "Mean squared error: 0.17\n",
      "\n",
      "Coefficient of determination: 0.43\n"
     ]
    }
   ],
   "source": [
    "from sklearn.metrics import mean_squared_error, r2_score\n",
    "\n",
    "# The mean squared error\n",
    "print('Mean squared error: %.2f'\n",
    "      % mean_squared_error(Y_test, Y_pred))\n",
    "\n",
    "# The coefficient of determination: 1 is perfect prediction\n",
    "print('\\nCoefficient of determination: %.2f'\n",
    "      % r2_score(Y_test, Y_pred))"
   ]
  },
  {
   "cell_type": "code",
   "execution_count": 180,
   "metadata": {},
   "outputs": [
    {
     "data": {
      "text/plain": [
       "array([[3.14760e-01, 5.71000e-02, 2.89910e-01, 7.19200e-02],\n",
       "       [1.20020e+00, 8.20260e-01, 4.52940e-01, 2.46650e-01],\n",
       "       [1.65941e+00, 8.34990e-01, 4.04820e-01, 3.12660e-01],\n",
       "       ...,\n",
       "       [1.72629e+00, 9.39050e-01, 5.81730e-01, 3.82050e-01],\n",
       "       [2.32870e-01, 1.82550e-01, 2.93910e-01, 1.84400e-02],\n",
       "       [1.90670e-01, 3.65500e-02, 4.63900e-02, 2.30000e-04]])"
      ]
     },
     "execution_count": 180,
     "metadata": {},
     "output_type": "execute_result"
    }
   ],
   "source": [
    "features"
   ]
  },
  {
   "cell_type": "code",
   "execution_count": 142,
   "metadata": {},
   "outputs": [],
   "source": [
    "def cross_validate_predictions(model, features, targets, k):\n",
    "  kf = KFold(n_splits=k, shuffle=True)\n",
    "\n",
    "  # declare an array for predicted redshifts from each iteration\n",
    "  all_predictions = np.zeros_like(targets)\n",
    "\n",
    "  for train_indices, test_indices in kf.split(features):\n",
    "    # split the data into training and testing\n",
    "    train_features, test_features = features[train_indices], features[test_indices]\n",
    "    train_targets, test_targets = targets[train_indices], targets[test_indices]\n",
    "    \n",
    "    # fit the model for the current set\n",
    "    model.fit(train_features, train_targets)\n",
    "        \n",
    "    # predict using the model\n",
    "    predictions = model.predict(test_features)\n",
    "        \n",
    "    # put the predicted values in the all_predictions array defined above\n",
    "    all_predictions[test_indices] = predictions\n",
    "\n",
    "  # return the predictions\n",
    "  return all_predictions"
   ]
  },
  {
   "cell_type": "code",
   "execution_count": 143,
   "metadata": {},
   "outputs": [
    {
     "name": "stdout",
     "output_type": "stream",
     "text": [
      "Median difference: 0.188\n"
     ]
    },
    {
     "data": {
      "image/png": "[encoded data removed]",
      "text/plain": [
       "<Figure size 432x288 with 1 Axes>"
      ]
     },
     "metadata": {
      "needs_background": "light"
     },
     "output_type": "display_data"
    }
   ],
   "source": [
    " # initialize model\n",
    "LR = LinearRegression()\n",
    "\n",
    "  # call your cross validation function\n",
    "predictions = cross_validate_predictions(LR, features, targets, 10)\n",
    "\n",
    "  # calculate and print the rmsd as a sanity check\n",
    "diffs = median_diff(predictions, targets)\n",
    "print('Median difference: {:.3f}'.format(diffs))\n",
    "\n",
    "  # plot the results to see how well our model looks\n",
    "plt.scatter(targets, predictions, s=0.4)\n",
    "plt.xlim((0, targets.max()))\n",
    "plt.ylim((0, predictions.max()))\n",
    "plt.xlabel('Measured Redshift')\n",
    "plt.ylabel('Predicted Redshift')\n",
    "plt.show()"
   ]
  },
  {
   "cell_type": "code",
   "execution_count": 175,
   "metadata": {},
   "outputs": [
    {
     "name": "stdout",
     "output_type": "stream",
     "text": [
      "Coefficients: \n",
      " [-0.53965847 -0.03226042 -0.49811715  0.18368244]\n"
     ]
    }
   ],
   "source": [
    "print('Coefficients: \\n', LR.coef_)"
   ]
  },
  {
   "cell_type": "code",
   "execution_count": 154,
   "metadata": {},
   "outputs": [
    {
     "name": "stdout",
     "output_type": "stream",
     "text": [
      "Mean squared error: 0.16\n",
      "\n",
      "Coefficient of determination: 0.44\n"
     ]
    }
   ],
   "source": [
    "from sklearn.metrics import mean_squared_error, r2_score\n",
    "\n",
    "# The mean squared error\n",
    "print('Mean squared error: %.2f'\n",
    "      % mean_squared_error(Y, predictions))\n",
    "\n",
    "# The coefficient of determination: 1 is perfect prediction\n",
    "print('\\nCoefficient of determination: %.2f'\n",
    "      % r2_score(Y, predictions))"
   ]
  },
  {
   "cell_type": "code",
   "execution_count": 183,
   "metadata": {},
   "outputs": [],
   "source": [
    "norm = MinMaxScaler().fit(features)\n",
    "\n",
    "# transform training data\n",
    "features_norm = norm.transform(features)\n",
    "def cross_validate_predictions(model, features_norm, targets, k):\n",
    "  kf = KFold(n_splits=k, shuffle=True)\n",
    "\n",
    "  # declare an array for predicted redshifts from each iteration\n",
    "  all_predictions = np.zeros_like(targets)\n",
    "\n",
    "  for train_indices, test_indices in kf.split(features):\n",
    "    # split the data into training and testing\n",
    "    train_features, test_features = features_norm[train_indices], features_norm[test_indices]\n",
    "    train_targets, test_targets = targets[train_indices], targets[test_indices]\n",
    "    \n",
    "    # fit the model for the current set\n",
    "    model.fit(train_features, train_targets)\n",
    "        \n",
    "    # predict using the model\n",
    "    predictions = model.predict(test_features)\n",
    "        \n",
    "    # put the predicted values in the all_predictions array defined above\n",
    "    all_predictions[test_indices] = predictions\n",
    "\n",
    "  # return the predictions\n",
    "  return all_predictions"
   ]
  },
  {
   "cell_type": "code",
   "execution_count": 184,
   "metadata": {},
   "outputs": [
    {
     "name": "stdout",
     "output_type": "stream",
     "text": [
      "Median difference: 0.188\n"
     ]
    },
    {
     "data": {
      "image/png": "[encoded data removed]",
      "text/plain": [
       "<Figure size 432x288 with 1 Axes>"
      ]
     },
     "metadata": {
      "needs_background": "light"
     },
     "output_type": "display_data"
    }
   ],
   "source": [
    "predictions = cross_validate_predictions(LR, features_norm, targets, 10)\n",
    "  # calculate and print the rmsd as a sanity check\n",
    "diffs = median_diff(predictions, targets)\n",
    "print('Median difference: {:.3f}'.format(diffs))\n",
    "\n",
    "  # plot the results to see how well our model looks\n",
    "plt.scatter(targets, predictions, s=0.4)\n",
    "plt.xlim((0, targets.max()))\n",
    "plt.ylim((0, predictions.max()))\n",
    "plt.xlabel('Measured Redshift')\n",
    "plt.ylabel('Predicted Redshift')\n",
    "plt.show()"
   ]
  },
  {
   "cell_type": "code",
   "execution_count": 185,
   "metadata": {},
   "outputs": [
    {
     "name": "stdout",
     "output_type": "stream",
     "text": [
      "Median difference: 0.189\n"
     ]
    },
    {
     "data": {
      "image/png": "[encoded data removed]",
      "text/plain": [
       "<Figure size 432x288 with 1 Axes>"
      ]
     },
     "metadata": {
      "needs_background": "light"
     },
     "output_type": "display_data"
    }
   ],
   "source": [
    "RR = Ridge(alpha = 0.5)\n",
    "predictions = cross_validate_predictions(RR, features_norm, targets, 10)\n",
    "  # calculate and print the rmsd as a sanity check\n",
    "diffs = median_diff(predictions, targets)\n",
    "print('Median difference: {:.3f}'.format(diffs))\n",
    "\n",
    "  # plot the results to see how well our model looks\n",
    "plt.scatter(targets, predictions, s=0.4)\n",
    "plt.xlim((0, targets.max()))\n",
    "plt.ylim((0, predictions.max()))\n",
    "plt.xlabel('Measured Redshift')\n",
    "plt.ylabel('Predicted Redshift')\n",
    "plt.show()"
   ]
  },
  {
   "cell_type": "code",
   "execution_count": 186,
   "metadata": {},
   "outputs": [],
   "source": [
    "def split_galaxies_qsos(data):\n",
    "  # split the data into galaxies and qsos arrays\n",
    "  galaxies = data[data['spec_class'] == b'GALAXY']\n",
    "  qsos = data[data['spec_class'] == b'QSO']\n",
    "\n",
    "  # return the seperated galaxies and qsos arrays\n",
    "  return galaxies, qsos\n",
    "\n",
    "def cross_validate_median_diff(data):\n",
    "  features, targets = get_features_targets(data)\n",
    "  LR = LinearRegression()\n",
    "  return np.mean(cross_validate_model(LR, features, targets, 10))\n",
    "def cross_validate_median_diff(data):\n",
    "  features, targets = get_features_targets(data)\n",
    "  LR = LinearRegression()\n",
    "  return np.mean(cross_validate_model(LR, features, targets, 10))"
   ]
  },
  {
   "cell_type": "code",
   "execution_count": 187,
   "metadata": {},
   "outputs": [
    {
     "name": "stdout",
     "output_type": "stream",
     "text": [
      "Median difference for Galaxies: 0.019\n",
      "Median difference for QSOs: 0.451\n"
     ]
    }
   ],
   "source": [
    "galaxies, qsos= split_galaxies_qsos(data)\n",
    "\n",
    "  # here we cross validate the model and get the cross-validated median difference\n",
    "  # the cross_validated_med_diff function is in \"written_functions\"\n",
    "galaxy_med_diff = cross_validate_median_diff(galaxies)\n",
    "qso_med_diff = cross_validate_median_diff(qsos)\n",
    "\n",
    "  # print the results\n",
    "print(\"Median difference for Galaxies: {:.3f}\".format(galaxy_med_diff))\n",
    "print(\"Median difference for QSOs: {:.3f}\".format(qso_med_diff))"
   ]
  },
  {
   "cell_type": "markdown",
   "metadata": {},
   "source": [
    "# Decision Tree"
   ]
  },
  {
   "cell_type": "code",
   "execution_count": 71,
   "metadata": {
    "colab": {
     "base_uri": "https://localhost:8080/"
    },
    "id": "Mw9z8MUYO0dV",
    "outputId": "6a323dac-46ec-4b02-c1eb-291f4642eedb"
   },
   "outputs": [
    {
     "data": {
      "text/plain": [
       "DecisionTreeRegressor()"
      ]
     },
     "execution_count": 71,
     "metadata": {},
     "output_type": "execute_result"
    }
   ],
   "source": [
    "from sklearn.tree import DecisionTreeRegressor\n",
    "dtr = DecisionTreeRegressor()\n",
    "data = np.load('sdss_galaxy_colors.npy')\n",
    "X, Y = get_features_targets(data)\n",
    "# train the model\n",
    "X_train, X_test, Y_train, Y_test = train_test_split( X, Y, \n",
    "                    test_size = 0.4, random_state = 1 )\n",
    "\n",
    "dtr.fit(X_train, Y_train)"
   ]
  },
  {
   "cell_type": "code",
   "execution_count": 22,
   "metadata": {
    "colab": {
     "base_uri": "https://localhost:8080/"
    },
    "id": "t8gQct85Sgoy",
    "outputId": "393fce70-4cc9-4ad1-def6-d0318180af28"
   },
   "outputs": [
    {
     "name": "stdout",
     "output_type": "stream",
     "text": [
      "Mean squared error: 0.12\n",
      "\n",
      "Coefficient of determination: 0.59\n"
     ]
    }
   ],
   "source": [
    "Y_pred = dtr.predict(X_test)\n",
    "from sklearn.metrics import mean_squared_error, r2_score\n",
    "\n",
    "# The mean squared error\n",
    "print('Mean squared error: %.2f'\n",
    "      % mean_squared_error(Y_test, Y_pred))\n",
    "\n",
    "# The coefficient of determination: 1 is perfect prediction\n",
    "print('\\nCoefficient of determination: %.2f'\n",
    "      % r2_score(Y_test, Y_pred))"
   ]
  },
  {
   "cell_type": "markdown",
   "metadata": {},
   "source": [
    "To check overfitting"
   ]
  },
  {
   "cell_type": "code",
   "execution_count": 176,
   "metadata": {},
   "outputs": [],
   "source": [
    "def get_features_targets(data):\n",
    "  features = np.zeros(shape=(len(data),4))\n",
    "  features[:, 0] = data['u'] - data['g']\n",
    "  features[:, 1] = data['g'] - data['r']\n",
    "  features[:, 2] = data['r'] - data['i']\n",
    "  features[:, 3] = data['i'] - data['z']\n",
    "  targets=data['redshift']\n",
    "  return features, targets"
   ]
  },
  {
   "cell_type": "code",
   "execution_count": 63,
   "metadata": {},
   "outputs": [],
   "source": [
    "def median_diff(predicted, actual):\n",
    "  return np.median(np.abs(predicted[:]-actual[:]))\n",
    "\n",
    "# Complete the following function\n",
    "def accuracy_by_treedepth(features, targets, depths):\n",
    "  # split the data into testing and training sets\n",
    "  split= 2*features.shape[0]//3\n",
    "  train_features, test_features = features[:split], features[split:]\n",
    "  train_targets, test_targets = targets[:split], targets[split:]  \n",
    "  # initialise arrays or lists to store the accuracies for the below loop\n",
    "  train_diffs = []\n",
    "  test_diffs = []\n",
    "  # loop through depths\n",
    "  for depth in depths:\n",
    "    # initialize model with the maximum depth. \n",
    "    dtr = DecisionTreeRegressor(max_depth=depth)\n",
    "\n",
    "    # train the model using the training set\n",
    "    dtr.fit(train_features, train_targets)\n",
    "\n",
    "    # get the predictions for the training set and calculate their median_diff\n",
    "    predictions = dtr.predict(train_features)\n",
    "    train_diffs.append(median_diff(train_targets, predictions))\n",
    "\n",
    "    # get the predictions for the testing set and calculate their median_diff\n",
    "    predictions = dtr.predict(test_features)\n",
    "    test_diffs.append(median_diff(test_targets, predictions))      \n",
    "  # return the accuracies for the training and testing sets\n",
    "  return train_diffs, test_diffs    \n"
   ]
  },
  {
   "cell_type": "code",
   "execution_count": 64,
   "metadata": {},
   "outputs": [
    {
     "name": "stdout",
     "output_type": "stream",
     "text": [
      "Depth with lowest median difference : 19\n"
     ]
    },
    {
     "data": {
      "image/png": "[encoded data removed]",
      "text/plain": [
       "<Figure size 432x288 with 1 Axes>"
      ]
     },
     "metadata": {
      "needs_background": "light"
     },
     "output_type": "display_data"
    }
   ],
   "source": [
    "features, targets = get_features_targets(data)\n",
    "\n",
    "  # Generate several depths to test\n",
    "tree_depths = [i for i in range(1, 36, 2)]\n",
    " # Call the function\n",
    "train_med_diffs, test_med_diffs = accuracy_by_treedepth(features, targets, tree_depths) \n",
    "print(\"Depth with lowest median difference : {}\".format(tree_depths[test_med_diffs.index(min(test_med_diffs))]))\n",
    "    \n",
    "# Plot the results\n",
    "train_plot = plt.plot(tree_depths, train_med_diffs, label='Training set')\n",
    "test_plot = plt.plot(tree_depths, test_med_diffs, label='Validation set')\n",
    "plt.xlabel(\"Maximum Tree Depth\")\n",
    "plt.ylabel(\"Median of Differences\")\n",
    "plt.legend()\n",
    "plt.show()"
   ]
  },
  {
   "cell_type": "markdown",
   "metadata": {},
   "source": [
    "Using K-Fold Cross Validaqtion"
   ]
  },
  {
   "cell_type": "code",
   "execution_count": 65,
   "metadata": {},
   "outputs": [],
   "source": [
    "def cross_validate_predictions(model, features, targets, k):\n",
    "  kf = KFold(n_splits=k, shuffle=True)\n",
    "\n",
    "  # declare an array for predicted redshifts from each iteration\n",
    "  all_predictions = np.zeros_like(targets)\n",
    "\n",
    "  for train_indices, test_indices in kf.split(features):\n",
    "    # split the data into training and testing\n",
    "    train_features, test_features = features[train_indices], features[test_indices]\n",
    "    train_targets, test_targets = targets[train_indices], targets[test_indices]\n",
    "    \n",
    "    # fit the model for the current set\n",
    "    model.fit(train_features, train_targets)\n",
    "        \n",
    "    # predict using the model\n",
    "    predictions = model.predict(test_features)\n",
    "        \n",
    "    # put the predicted values in the all_predictions array defined above\n",
    "    all_predictions[test_indices] = predictions\n",
    "\n",
    "  # return the predictions\n",
    "  return all_predictions\n"
   ]
  },
  {
   "cell_type": "code",
   "execution_count": 155,
   "metadata": {},
   "outputs": [
    {
     "name": "stdout",
     "output_type": "stream",
     "text": [
      "Median difference: 0.017\n"
     ]
    },
    {
     "data": {
      "image/png": "[encoded data removed]",
      "text/plain": [
       "<Figure size 432x288 with 1 Axes>"
      ]
     },
     "metadata": {
      "needs_background": "light"
     },
     "output_type": "display_data"
    }
   ],
   "source": [
    " # initialize model\n",
    "dtr = DecisionTreeRegressor(max_depth=19)\n",
    "\n",
    "  # call your cross validation function\n",
    "predictions = cross_validate_predictions(dtr, features, targets, 10)\n",
    "\n",
    "  # calculate and print the rmsd as a sanity check\n",
    "diffs = median_diff(predictions, targets)\n",
    "print('Median difference: {:.3f}'.format(diffs))\n",
    "\n",
    "  # plot the results to see how well our model looks\n",
    "plt.scatter(targets, predictions, s=0.4)\n",
    "plt.xlim((0, targets.max()))\n",
    "plt.ylim((0, predictions.max()))\n",
    "plt.xlabel('Measured Redshift')\n",
    "plt.ylabel('Predicted Redshift')\n",
    "plt.show()"
   ]
  },
  {
   "cell_type": "code",
   "execution_count": 162,
   "metadata": {},
   "outputs": [],
   "source": [
    "def cross_validate_model(model, features, targets, k):\n",
    "  kf = KFold(n_splits=k, shuffle=True)\n",
    "\n",
    "  # initialise a list to collect median_diffs for each iteration of the loop below\n",
    "  diffs = []\n",
    "\n",
    "  for train_indices, test_indices in kf.split(features):\n",
    "    train_features, test_features = features[train_indices], features[test_indices]\n",
    "    train_targets, test_targets = targets[train_indices], targets[test_indices]\n",
    "    \n",
    "    # fit the model for the current set\n",
    "    model.fit(train_features, train_targets)\n",
    "    \n",
    "    # predict using the model\n",
    "    predictions = model.predict(test_features)\n",
    " \n",
    "    # calculate the median_diff from predicted values and append to results array\n",
    "    diffs.append(median_diff(predictions, test_targets))\n",
    " \n",
    "  # return the list with your median difference values\n",
    "  return diffs"
   ]
  },
  {
   "cell_type": "code",
   "execution_count": 163,
   "metadata": {},
   "outputs": [],
   "source": [
    "def split_galaxies_qsos(data):\n",
    "  # split the data into galaxies and qsos arrays\n",
    "  galaxies = data[data['spec_class'] == b'GALAXY']\n",
    "  qsos = data[data['spec_class'] == b'QSO']\n",
    "\n",
    "  # return the seperated galaxies and qsos arrays\n",
    "  return galaxies, qsos\n",
    "\n",
    "def cross_validate_median_diff(data):\n",
    "  features, targets = get_features_targets(data)\n",
    "  dtr = DecisionTreeRegressor(max_depth=19)\n",
    "  return np.mean(cross_validate_model(dtr, features, targets, 10))\n",
    "def cross_validate_median_diff(data):\n",
    "  features, targets = get_features_targets(data)\n",
    "  dtr = DecisionTreeRegressor(max_depth=19)\n",
    "  return np.mean(cross_validate_model(dtr, features, targets, 10))\n"
   ]
  },
  {
   "cell_type": "code",
   "execution_count": 164,
   "metadata": {},
   "outputs": [
    {
     "name": "stdout",
     "output_type": "stream",
     "text": [
      "Median difference for Galaxies: 0.016\n",
      "Median difference for QSOs: 0.077\n"
     ]
    }
   ],
   "source": [
    "galaxies, qsos= split_galaxies_qsos(data)\n",
    "\n",
    "  # here we cross validate the model and get the cross-validated median difference\n",
    "  # the cross_validated_med_diff function is in \"written_functions\"\n",
    "galaxy_med_diff = cross_validate_median_diff(galaxies)\n",
    "qso_med_diff = cross_validate_median_diff(qsos)\n",
    "\n",
    "  # print the results\n",
    "print(\"Median difference for Galaxies: {:.3f}\".format(galaxy_med_diff))\n",
    "print(\"Median difference for QSOs: {:.3f}\".format(qso_med_diff))"
   ]
  },
  {
   "cell_type": "code",
   "execution_count": 156,
   "metadata": {},
   "outputs": [
    {
     "name": "stdout",
     "output_type": "stream",
     "text": [
      "Mean squared error: 0.12\n",
      "\n",
      "Coefficient of determination: 0.57\n"
     ]
    }
   ],
   "source": [
    "\n",
    "from sklearn.metrics import mean_squared_error, r2_score\n",
    "\n",
    "# The mean squared error\n",
    "print('Mean squared error: %.2f'\n",
    "      % mean_squared_error(Y, predictions))\n",
    "\n",
    "# The coefficient of determination: 1 is perfect prediction\n",
    "print('\\nCoefficient of determination: %.2f'\n",
    "      % r2_score(Y, predictions))"
   ]
  },
  {
   "cell_type": "code",
   "execution_count": 74,
   "metadata": {},
   "outputs": [
    {
     "name": "stdout",
     "output_type": "stream",
     "text": [
      "Mean squared error: 0.02\n",
      "\n",
      "Coefficient of determination: 0.93\n"
     ]
    }
   ],
   "source": [
    "Y_pred = dtr.predict(X_test)\n",
    "from sklearn.metrics import mean_squared_error, r2_score\n",
    "\n",
    "# The mean squared error\n",
    "print('Mean squared error: %.2f'\n",
    "      % mean_squared_error(Y_test, Y_pred))\n",
    "\n",
    "# The coefficient of determination: 1 is perfect prediction\n",
    "print('\\nCoefficient of determination: %.2f'\n",
    "      % r2_score(Y_test, Y_pred))"
   ]
  },
  {
   "cell_type": "code",
   "execution_count": 170,
   "metadata": {},
   "outputs": [
    {
     "name": "stdout",
     "output_type": "stream",
     "text": [
      "Median difference: 0.017\n"
     ]
    },
    {
     "data": {
      "image/png": "[encoded data removed]",
      "text/plain": [
       "<Figure size 432x288 with 1 Axes>"
      ]
     },
     "metadata": {
      "needs_background": "light"
     },
     "output_type": "display_data"
    }
   ],
   "source": [
    "rfc = RandomForestRegressor()\n",
    "predictions = cross_validate_predictions(rfc, features, targets, 10)\n",
    "\n",
    "  # calculate and print the rmsd as a sanity check\n",
    "diffs = median_diff(predictions, targets)\n",
    "print('Median difference: {:.3f}'.format(diffs))\n",
    "\n",
    "  # plot the results to see how well our model looks\n",
    "plt.scatter(targets, predictions, s=0.4)\n",
    "plt.xlim((0, targets.max()))\n",
    "plt.ylim((0, predictions.max()))\n",
    "plt.xlabel('Measured Redshift')\n",
    "plt.ylabel('Predicted Redshift')\n",
    "plt.show()"
   ]
  },
  {
   "cell_type": "code",
   "execution_count": 171,
   "metadata": {},
   "outputs": [
    {
     "name": "stdout",
     "output_type": "stream",
     "text": [
      "Mean squared error: 0.07\n",
      "\n",
      "Coefficient of determination: 0.76\n"
     ]
    }
   ],
   "source": [
    "from sklearn.metrics import mean_squared_error, r2_score\n",
    "\n",
    "# The mean squared error\n",
    "print('Mean squared error: %.2f'\n",
    "      % mean_squared_error(Y, predictions))\n",
    "\n",
    "# The coefficient of determination: 1 is perfect prediction\n",
    "print('\\nCoefficient of determination: %.2f'\n",
    "      % r2_score(Y, predictions))"
   ]
  },
  {
   "cell_type": "code",
   "execution_count": null,
   "metadata": {},
   "outputs": [],
   "source": []
  },
  {
   "cell_type": "code",
   "execution_count": null,
   "metadata": {},
   "outputs": [],
   "source": []
  },
  {
   "cell_type": "markdown",
   "metadata": {
    "id": "VHmOF6WtS9ka"
   },
   "source": [
    "# Logistic Regression\n"
   ]
  },
  {
   "cell_type": "code",
   "execution_count": 249,
   "metadata": {
    "id": "xszv1P-2Qraz"
   },
   "outputs": [],
   "source": [
    "def get_features_targetss(data):\n",
    "  features = np.zeros(shape=(len(data),4))\n",
    "  features[:, 0] = data['u'] - data['g']\n",
    "  features[:, 1] = data['g'] - data['r']\n",
    "  features[:, 2] = data['r'] - data['i']\n",
    "  features[:, 3] = data['i'] - data['z']\n",
    "  targets=data['spec_class']\n",
    "  return features, targets"
   ]
  },
  {
   "cell_type": "code",
   "execution_count": 256,
   "metadata": {
    "id": "EyzhyTjORNRR"
   },
   "outputs": [],
   "source": [
    "X, Y= get_features_targetss(data)\n",
    "X_train, X_test, Y_train, Y_test = train_test_split( X, Y, \n",
    "                    test_size = 0.4, random_state = 1 )\n",
    "clf=LogisticRegression()\n"
   ]
  },
  {
   "cell_type": "code",
   "execution_count": null,
   "metadata": {},
   "outputs": [],
   "source": []
  },
  {
   "cell_type": "code",
   "execution_count": 202,
   "metadata": {
    "colab": {
     "base_uri": "https://localhost:8080/"
    },
    "id": "SYbHvNapUOjj",
    "outputId": "f283be9e-0b81-475c-aa4a-aedf06e42f00"
   },
   "outputs": [
    {
     "data": {
      "text/plain": [
       "LogisticRegression()"
      ]
     },
     "execution_count": 202,
     "metadata": {},
     "output_type": "execute_result"
    }
   ],
   "source": [
    "clf.fit(X_train, Y_train)"
   ]
  },
  {
   "cell_type": "code",
   "execution_count": 203,
   "metadata": {
    "id": "FT06KfbDUU6O"
   },
   "outputs": [],
   "source": [
    "from sklearn.metrics import f1_score"
   ]
  },
  {
   "cell_type": "code",
   "execution_count": 204,
   "metadata": {
    "id": "2hvgQm1-_fdM"
   },
   "outputs": [],
   "source": [
    "y_predict=clf.predict(X_test)"
   ]
  },
  {
   "cell_type": "code",
   "execution_count": 205,
   "metadata": {
    "colab": {
     "base_uri": "https://localhost:8080/"
    },
    "id": "ddTgoDbxCQfw",
    "outputId": "7d8279a2-968a-4c79-80e5-e81ce02a939e"
   },
   "outputs": [
    {
     "data": {
      "text/plain": [
       "array([b'GALAXY', b'QSO', b'GALAXY', ..., b'GALAXY', b'GALAXY', b'QSO'],\n",
       "      dtype='|S6')"
      ]
     },
     "execution_count": 205,
     "metadata": {},
     "output_type": "execute_result"
    }
   ],
   "source": [
    "y_predict"
   ]
  },
  {
   "cell_type": "code",
   "execution_count": 206,
   "metadata": {
    "colab": {
     "base_uri": "https://localhost:8080/"
    },
    "id": "_z8qDwSZC-KD",
    "outputId": "38fa10e4-b095-4268-a058-e7e2fa596fee"
   },
   "outputs": [
    {
     "data": {
      "text/plain": [
       "array([b'GALAXY', b'QSO', b'GALAXY', ..., b'GALAXY', b'GALAXY', b'QSO'],\n",
       "      dtype='|S6')"
      ]
     },
     "execution_count": 206,
     "metadata": {},
     "output_type": "execute_result"
    }
   ],
   "source": [
    "Y_test"
   ]
  },
  {
   "cell_type": "code",
   "execution_count": 207,
   "metadata": {
    "id": "WF9j5sT6_xAG"
   },
   "outputs": [],
   "source": [
    "def calculate_accuracy(predicted_classes, actual_classes):\n",
    "  return sum(predicted_classes == actual_classes)/len(actual_classes)\n"
   ]
  },
  {
   "cell_type": "code",
   "execution_count": 31,
   "metadata": {
    "id": "XWn0RalEDbFS"
   },
   "outputs": [],
   "source": [
    "model_score=calculate_accuracy(y_predict, Y_test)"
   ]
  },
  {
   "cell_type": "code",
   "execution_count": 32,
   "metadata": {
    "colab": {
     "base_uri": "https://localhost:8080/"
    },
    "id": "ncOS1_FMDscR",
    "outputId": "e2924ee7-f71e-4a08-deed-c5980f82fa4c"
   },
   "outputs": [
    {
     "data": {
      "text/plain": [
       "0.97865"
      ]
     },
     "execution_count": 32,
     "metadata": {},
     "output_type": "execute_result"
    }
   ],
   "source": [
    "model_score"
   ]
  },
  {
   "cell_type": "code",
   "execution_count": 208,
   "metadata": {
    "colab": {
     "base_uri": "https://localhost:8080/"
    },
    "id": "cWhGzEwVEKRE",
    "outputId": "bc8f355b-1903-41b6-e46c-93e70513a91f"
   },
   "outputs": [
    {
     "name": "stdout",
     "output_type": "stream",
     "text": [
      "Confusion Matrix:\n",
      "[[16478   177]\n",
      " [  250  3095]]\n",
      "\n",
      "Classification Report:\n",
      "              precision    recall  f1-score   support\n",
      "\n",
      "   b'GALAXY'       0.99      0.99      0.99     16655\n",
      "      b'QSO'       0.95      0.93      0.94      3345\n",
      "\n",
      "    accuracy                           0.98     20000\n",
      "   macro avg       0.97      0.96      0.96     20000\n",
      "weighted avg       0.98      0.98      0.98     20000\n",
      "\n",
      "\n",
      "Accuracy: 0.97865\n"
     ]
    }
   ],
   "source": [
    "from sklearn.metrics import classification_report, confusion_matrix, accuracy_score\n",
    "\n",
    "# Confusion Matrix \n",
    "result = confusion_matrix(Y_test, y_predict)\n",
    "print(\"Confusion Matrix:\")\n",
    "print(result)\n",
    "\n",
    "# Classification report\n",
    "result1 = classification_report(Y_test, y_predict)\n",
    "print(\"\\nClassification Report:\")\n",
    "print (result1)\n",
    "\n",
    "# Accuracy score\n",
    "result2 = accuracy_score(Y_test, y_predict)\n",
    "print(\"\\nAccuracy:\",result2)"
   ]
  },
  {
   "cell_type": "code",
   "execution_count": 220,
   "metadata": {},
   "outputs": [
    {
     "data": {
      "text/plain": [
       "<AxesSubplot:>"
      ]
     },
     "execution_count": 220,
     "metadata": {},
     "output_type": "execute_result"
    },
    {
     "data": {
      "image/png": "[encoded data removed]",
      "text/plain": [
       "<Figure size 432x288 with 2 Axes>"
      ]
     },
     "metadata": {},
     "output_type": "display_data"
    }
   ],
   "source": [
    "import seaborn as sns\n",
    "import seaborn\n",
    "sns.heatmap(result, xticklabels=labels, yticklabels=labels, annot=True)"
   ]
  },
  {
   "cell_type": "code",
   "execution_count": 221,
   "metadata": {},
   "outputs": [],
   "source": [
    "model = LogisticRegression(multi_class='multinomial', solver='lbfgs')"
   ]
  },
  {
   "cell_type": "code",
   "execution_count": 226,
   "metadata": {},
   "outputs": [
    {
     "name": "stdout",
     "output_type": "stream",
     "text": [
      "Confusion Matrix:\n",
      "[[16480   175]\n",
      " [  249  3096]]\n",
      "\n",
      "Classification Report:\n",
      "              precision    recall  f1-score   support\n",
      "\n",
      "   b'GALAXY'       0.99      0.99      0.99     16655\n",
      "      b'QSO'       0.95      0.93      0.94      3345\n",
      "\n",
      "    accuracy                           0.98     20000\n",
      "   macro avg       0.97      0.96      0.96     20000\n",
      "weighted avg       0.98      0.98      0.98     20000\n",
      "\n",
      "\n",
      "Accuracy: 0.9788\n"
     ]
    }
   ],
   "source": [
    "model.fit(X_train, Y_train)\n",
    "y_predict=model.predict(X_test)\n",
    "from sklearn.metrics import classification_report, confusion_matrix, accuracy_score\n",
    "\n",
    "# Confusion Matrix \n",
    "result = confusion_matrix(Y_test, y_predict)\n",
    "print(\"Confusion Matrix:\")\n",
    "print(result)\n",
    "\n",
    "# Classification report\n",
    "result1 = classification_report(Y_test, y_predict)\n",
    "print(\"\\nClassification Report:\")\n",
    "print (result1)\n",
    "\n",
    "# Accuracy score\n",
    "result2 = accuracy_score(Y_test, y_predict)\n",
    "print(\"\\nAccuracy:\",result2)"
   ]
  },
  {
   "cell_type": "code",
   "execution_count": 227,
   "metadata": {},
   "outputs": [],
   "source": [
    "def clf_predict_actual(data):\n",
    "  # generate the features and targets\n",
    "  features, targets = get_features_targetss(data)\n",
    "\n",
    "  # instantiate a random forest classifier\n",
    "  clf=LogisticRegression(multi_class='multinomial', solver='lbfgs')\n",
    "\n",
    "  \n",
    "  # get predictions using 10-fold cross validation with cross_val_predict\n",
    "  predicted = cross_val_predict(clf, features, targets, cv=10)\n",
    "\n",
    "  # return the predictions and their actual classes\n",
    "  return predicted, targets"
   ]
  },
  {
   "cell_type": "code",
   "execution_count": 228,
   "metadata": {},
   "outputs": [
    {
     "name": "stdout",
     "output_type": "stream",
     "text": [
      "Accuracy score: 0.98024\n"
     ]
    }
   ],
   "source": [
    "predicted, actual = clf_predict_actual(data)\n",
    "\n",
    "# calculate the model score using your function\n",
    "accuracy = calculate_accuracy(predicted, actual)\n",
    "print(\"Accuracy score:\", accuracy)\n"
   ]
  },
  {
   "cell_type": "code",
   "execution_count": 230,
   "metadata": {},
   "outputs": [
    {
     "name": "stdout",
     "output_type": "stream",
     "text": [
      "Confusion Matrix:\n",
      "[[41061   414]\n",
      " [  574  7951]]\n",
      "\n",
      "Classification Report:\n",
      "              precision    recall  f1-score   support\n",
      "\n",
      "   b'GALAXY'       0.99      0.99      0.99     41475\n",
      "      b'QSO'       0.95      0.93      0.94      8525\n",
      "\n",
      "    accuracy                           0.98     50000\n",
      "   macro avg       0.97      0.96      0.96     50000\n",
      "weighted avg       0.98      0.98      0.98     50000\n",
      "\n",
      "\n",
      "Accuracy: 0.98024\n"
     ]
    }
   ],
   "source": [
    "Y_pred, Y_test = clf_predict_actual(data)\n",
    "result = confusion_matrix(Y_test, Y_pred)\n",
    "print(\"Confusion Matrix:\")\n",
    "print(result)\n",
    "\n",
    "# Classification report\n",
    "result1 = classification_report(Y_test, Y_pred)\n",
    "print(\"\\nClassification Report:\")\n",
    "print (result1)\n",
    "\n",
    "# Accuracy score\n",
    "result2 = accuracy_score(Y_test, Y_pred)\n",
    "print(\"\\nAccuracy:\",result2)"
   ]
  },
  {
   "cell_type": "code",
   "execution_count": 231,
   "metadata": {},
   "outputs": [
    {
     "data": {
      "text/plain": [
       "<AxesSubplot:>"
      ]
     },
     "execution_count": 231,
     "metadata": {},
     "output_type": "execute_result"
    },
    {
     "data": {
      "image/png": "[encoded data removed]",
      "text/plain": [
       "<Figure size 432x288 with 2 Axes>"
      ]
     },
     "metadata": {},
     "output_type": "display_data"
    }
   ],
   "source": [
    "import seaborn as sns\n",
    "import seaborn\n",
    "sns.heatmap(result, xticklabels=labels, yticklabels=labels, annot=True)"
   ]
  },
  {
   "cell_type": "markdown",
   "metadata": {
    "id": "4jK4cEcOD28w"
   },
   "source": [
    "# SVM"
   ]
  },
  {
   "cell_type": "code",
   "execution_count": 257,
   "metadata": {
    "id": "bp4B71oODuPp"
   },
   "outputs": [],
   "source": [
    "from sklearn.svm import SVC"
   ]
  },
  {
   "cell_type": "code",
   "execution_count": 258,
   "metadata": {
    "id": "B7CFqIpwP9j8"
   },
   "outputs": [],
   "source": [
    "svm = SVC(kernel = 'linear',gamma = 'scale')"
   ]
  },
  {
   "cell_type": "code",
   "execution_count": 259,
   "metadata": {
    "id": "AZkvwsG3QSrP"
   },
   "outputs": [],
   "source": [
    "svm.fit(X_train, Y_train)\n",
    "Y_pred = svm.predict(X_test)"
   ]
  },
  {
   "cell_type": "code",
   "execution_count": 251,
   "metadata": {},
   "outputs": [],
   "source": [
    "from sklearn.preprocessing import StandardScaler\n",
    "sc = StandardScaler()\n",
    "X_train = sc.fit_transform(X_train)\n",
    "X_test = sc.transform(X_test)"
   ]
  },
  {
   "cell_type": "code",
   "execution_count": 261,
   "metadata": {},
   "outputs": [],
   "source": [
    "def svm_predict_actual(data):\n",
    "  # generate the features and targets\n",
    "  features, targets = get_features_targetss(data)\n",
    "\n",
    "  # instantiate a svmclassifier\n",
    "  svm = SVC(kernel = 'linear',gamma = 'scale')\n",
    "\n",
    "  \n",
    "  # get predictions using 10-fold cross validation with cross_val_predict\n",
    "  predicted = cross_val_predict(svm, features, targets, cv=10)\n",
    "\n",
    "  # return the predictions and their actual classes\n",
    "  return predicted, targets"
   ]
  },
  {
   "cell_type": "code",
   "execution_count": 262,
   "metadata": {},
   "outputs": [
    {
     "name": "stdout",
     "output_type": "stream",
     "text": [
      "Confusion Matrix:\n",
      "[[41080   395]\n",
      " [  539  7986]]\n",
      "\n",
      "Classification Report:\n",
      "              precision    recall  f1-score   support\n",
      "\n",
      "   b'GALAXY'       0.99      0.99      0.99     41475\n",
      "      b'QSO'       0.95      0.94      0.94      8525\n",
      "\n",
      "    accuracy                           0.98     50000\n",
      "   macro avg       0.97      0.96      0.97     50000\n",
      "weighted avg       0.98      0.98      0.98     50000\n",
      "\n",
      "\n",
      "Accuracy: 0.98132\n"
     ]
    }
   ],
   "source": [
    "Y_pred, Y_test = svm_predict_actual(data)\n",
    "result = confusion_matrix(Y_test, Y_pred)\n",
    "print(\"Confusion Matrix:\")\n",
    "print(result)\n",
    "\n",
    "# Classification report\n",
    "result1 = classification_report(Y_test, Y_pred)\n",
    "print(\"\\nClassification Report:\")\n",
    "print (result1)\n",
    "\n",
    "# Accuracy score\n",
    "result2 = accuracy_score(Y_test, Y_pred)\n",
    "print(\"\\nAccuracy:\",result2)"
   ]
  },
  {
   "cell_type": "code",
   "execution_count": 245,
   "metadata": {},
   "outputs": [
    {
     "data": {
      "text/plain": [
       "<AxesSubplot:>"
      ]
     },
     "execution_count": 245,
     "metadata": {},
     "output_type": "execute_result"
    },
    {
     "data": {
      "image/png": "[encoded data removed]",
      "text/plain": [
       "<Figure size 432x288 with 2 Axes>"
      ]
     },
     "metadata": {},
     "output_type": "display_data"
    }
   ],
   "source": [
    "import seaborn as sns\n",
    "import seaborn\n",
    "sns.heatmap(result, xticklabels=labels, yticklabels=labels, annot=True)"
   ]
  },
  {
   "cell_type": "code",
   "execution_count": null,
   "metadata": {},
   "outputs": [],
   "source": []
  },
  {
   "cell_type": "code",
   "execution_count": 38,
   "metadata": {
    "id": "eK9WtU08Q3Y_"
   },
   "outputs": [],
   "source": [
    "from sklearn.preprocessing import LabelEncoder"
   ]
  },
  {
   "cell_type": "code",
   "execution_count": 39,
   "metadata": {
    "colab": {
     "base_uri": "https://localhost:8080/"
    },
    "id": "xgyS2-aobYFh",
    "outputId": "de2d2dbc-e77e-4ff5-9a61-9336079e5810"
   },
   "outputs": [
    {
     "data": {
      "text/plain": [
       "array([b'QSO', b'GALAXY', b'GALAXY', ..., b'GALAXY', b'QSO', b'QSO'],\n",
       "      dtype='|S6')"
      ]
     },
     "execution_count": 39,
     "metadata": {},
     "output_type": "execute_result"
    }
   ],
   "source": [
    "Y"
   ]
  },
  {
   "cell_type": "code",
   "execution_count": 40,
   "metadata": {
    "id": "Cw1A4RNabyOI"
   },
   "outputs": [],
   "source": [
    "#from keras.utils import np_utils"
   ]
  },
  {
   "cell_type": "code",
   "execution_count": 41,
   "metadata": {
    "colab": {
     "base_uri": "https://localhost:8080/"
    },
    "id": "aZ_1ApYLbdVy",
    "outputId": "f9d5778b-d055-473e-ce1a-1afcfb0c45fd"
   },
   "outputs": [],
   "source": [
    "# encode class values as integers\n",
    "#encoder = LabelEncoder()\n",
    "#encoder.fit(Y)\n",
    "#encoded_Y = encoder.transform(Y)\n",
    "# convert integers to dummy variables (i.e. one hot encoded)\n",
    "#dummy_y = np_utils.to_categorical(encoded_Y)\n",
    "#dummy_y"
   ]
  },
  {
   "cell_type": "code",
   "execution_count": 42,
   "metadata": {
    "id": "l-fiTFrabpwV"
   },
   "outputs": [],
   "source": [
    "from sklearn import preprocessing\n"
   ]
  },
  {
   "cell_type": "markdown",
   "metadata": {},
   "source": [
    "# Random Forest"
   ]
  },
  {
   "cell_type": "code",
   "execution_count": 263,
   "metadata": {},
   "outputs": [],
   "source": [
    "def rf_predict_actual(data, n_estimators):\n",
    "  # generate the features and targets\n",
    "  features, targets = get_features_targetss(data)\n",
    "\n",
    "  # instantiate a random forest classifier\n",
    "  rfc = RandomForestClassifier(n_estimators=n_estimators)\n",
    "  \n",
    "  # get predictions using 10-fold cross validation with cross_val_predict\n",
    "  predicted = cross_val_predict(rfc, features, targets, cv=10)\n",
    "\n",
    "  # return the predictions and their actual classes\n",
    "  return predicted, targets"
   ]
  },
  {
   "cell_type": "code",
   "execution_count": 264,
   "metadata": {},
   "outputs": [
    {
     "name": "stdout",
     "output_type": "stream",
     "text": [
      "Accuracy score: 0.98334\n"
     ]
    }
   ],
   "source": [
    "number_estimators = 50              # Number of trees\n",
    "Y_pred, Y_test = rf_predict_actual(data, number_estimators)\n",
    "\n",
    "# calculate the model score using your function\n",
    "accuracy = calculate_accuracy(Y_pred, Y_test)\n",
    "print(\"Accuracy score:\", accuracy)\n"
   ]
  },
  {
   "cell_type": "code",
   "execution_count": 46,
   "metadata": {},
   "outputs": [],
   "source": [
    "Y_pred, Y_test = rf_predict_actual(data, number_estimators)\n"
   ]
  },
  {
   "cell_type": "code",
   "execution_count": 265,
   "metadata": {},
   "outputs": [
    {
     "name": "stdout",
     "output_type": "stream",
     "text": [
      "Confusion Matrix:\n",
      "[[41158   317]\n",
      " [  516  8009]]\n",
      "\n",
      "Classification Report:\n",
      "              precision    recall  f1-score   support\n",
      "\n",
      "   b'GALAXY'       0.99      0.99      0.99     41475\n",
      "      b'QSO'       0.96      0.94      0.95      8525\n",
      "\n",
      "    accuracy                           0.98     50000\n",
      "   macro avg       0.97      0.97      0.97     50000\n",
      "weighted avg       0.98      0.98      0.98     50000\n",
      "\n",
      "\n",
      "Accuracy: 0.98334\n"
     ]
    }
   ],
   "source": [
    "result = confusion_matrix(Y_test, Y_pred)\n",
    "print(\"Confusion Matrix:\")\n",
    "print(result)\n",
    "\n",
    "# Classification report\n",
    "result1 = classification_report(Y_test, Y_pred)\n",
    "print(\"\\nClassification Report:\")\n",
    "print (result1)\n",
    "\n",
    "# Accuracy score\n",
    "result2 = accuracy_score(Y_test, Y_pred)\n",
    "print(\"\\nAccuracy:\",result2)"
   ]
  },
  {
   "cell_type": "code",
   "execution_count": 266,
   "metadata": {},
   "outputs": [
    {
     "data": {
      "text/plain": [
       "<AxesSubplot:>"
      ]
     },
     "execution_count": 266,
     "metadata": {},
     "output_type": "execute_result"
    },
    {
     "data": {
      "image/png": "[encoded data removed]",
      "text/plain": [
       "<Figure size 432x288 with 2 Axes>"
      ]
     },
     "metadata": {},
     "output_type": "display_data"
    }
   ],
   "source": [
    "sns.heatmap(result, xticklabels=labels, yticklabels=labels, annot=True)"
   ]
  },
  {
   "cell_type": "code",
   "execution_count": 49,
   "metadata": {},
   "outputs": [],
   "source": [
    "def clf_predict_actual(data):\n",
    "  # generate the features and targets\n",
    "  features, targets = get_features_targetss(data)\n",
    "\n",
    "  # instantiate a random forest classifier\n",
    "  clf=LogisticRegression()\n",
    "\n",
    "  \n",
    "  # get predictions using 10-fold cross validation with cross_val_predict\n",
    "  predicted = cross_val_predict(clf, features, targets, cv=10)\n",
    "\n",
    "  # return the predictions and their actual classes\n",
    "  return predicted, targets"
   ]
  },
  {
   "cell_type": "code",
   "execution_count": 50,
   "metadata": {},
   "outputs": [
    {
     "name": "stdout",
     "output_type": "stream",
     "text": [
      "Accuracy score: 0.9803\n"
     ]
    }
   ],
   "source": [
    "number_estimators = 50              # Number of trees\n",
    "predicted, actual = clf_predict_actual(data)\n",
    "\n",
    "# calculate the model score using your function\n",
    "accuracy = calculate_accuracy(predicted, actual)\n",
    "print(\"Accuracy score:\", accuracy)\n"
   ]
  },
  {
   "cell_type": "code",
   "execution_count": 51,
   "metadata": {},
   "outputs": [
    {
     "name": "stdout",
     "output_type": "stream",
     "text": [
      "Confusion Matrix:\n",
      "[[41063   412]\n",
      " [  573  7952]]\n",
      "\n",
      "Classification Report:\n",
      "              precision    recall  f1-score   support\n",
      "\n",
      "   b'GALAXY'       0.99      0.99      0.99     41475\n",
      "      b'QSO'       0.95      0.93      0.94      8525\n",
      "\n",
      "    accuracy                           0.98     50000\n",
      "   macro avg       0.97      0.96      0.96     50000\n",
      "weighted avg       0.98      0.98      0.98     50000\n",
      "\n",
      "\n",
      "Accuracy: 0.9803\n"
     ]
    }
   ],
   "source": [
    "Y_pred, Y_test = clf_predict_actual(data)\n",
    "result = confusion_matrix(Y_test, Y_pred)\n",
    "print(\"Confusion Matrix:\")\n",
    "print(result)\n",
    "\n",
    "# Classification report\n",
    "result1 = classification_report(Y_test, Y_pred)\n",
    "print(\"\\nClassification Report:\")\n",
    "print (result1)\n",
    "\n",
    "# Accuracy score\n",
    "result2 = accuracy_score(Y_test, Y_pred)\n",
    "print(\"\\nAccuracy:\",result2)"
   ]
  },
  {
   "cell_type": "markdown",
   "metadata": {},
   "source": [
    "# Neural Networks"
   ]
  },
  {
   "cell_type": "code",
   "execution_count": 232,
   "metadata": {},
   "outputs": [],
   "source": [
    "from keras.models import Sequential, load_model\n",
    "from keras.layers.core import Dense, Dropout, Activation\n",
    "from keras.utils import np_utils"
   ]
  },
  {
   "cell_type": "code",
   "execution_count": 233,
   "metadata": {},
   "outputs": [],
   "source": [
    "model=Sequential()\n",
    "model.add(Dense(256,activation='relu'))\n",
    "model.add(Dense(128,activation='relu'))\n",
    "model.add(Dense(64,activation='relu'))\n",
    "model.add(Dense(2,activation='softmax'))\n"
   ]
  },
  {
   "cell_type": "code",
   "execution_count": 234,
   "metadata": {},
   "outputs": [
    {
     "data": {
      "text/plain": [
       "array([[0., 1.],\n",
       "       [1., 0.],\n",
       "       [1., 0.],\n",
       "       ...,\n",
       "       [1., 0.],\n",
       "       [0., 1.],\n",
       "       [0., 1.]], dtype=float32)"
      ]
     },
     "execution_count": 234,
     "metadata": {},
     "output_type": "execute_result"
    }
   ],
   "source": [
    "from sklearn.preprocessing import LabelEncoder\n",
    "# encode class values as integers\n",
    "encoder = LabelEncoder()\n",
    "encoder.fit(Y)\n",
    "encoded_Y = encoder.transform(Y)\n",
    "# convert integers to dummy variables (i.e. one hot encoded)\n",
    "dummy_y = np_utils.to_categorical(encoded_Y)\n",
    "dummy_y"
   ]
  },
  {
   "cell_type": "code",
   "execution_count": null,
   "metadata": {},
   "outputs": [],
   "source": []
  },
  {
   "cell_type": "code",
   "execution_count": 274,
   "metadata": {},
   "outputs": [],
   "source": [
    "from sklearn.model_selection import train_test_split\n",
    "X_train, X_test, y_train, y_test = train_test_split(X, dummy_y,test_size = 0.2, random_state = 0)"
   ]
  },
  {
   "cell_type": "code",
   "execution_count": 285,
   "metadata": {},
   "outputs": [],
   "source": [
    "model.compile(loss='categorical_crossentropy', metrics=['accuracy'], optimizer='adam')"
   ]
  },
  {
   "cell_type": "code",
   "execution_count": 238,
   "metadata": {},
   "outputs": [
    {
     "name": "stdout",
     "output_type": "stream",
     "text": [
      "Epoch 1/100\n",
      "4000/4000 [==============================] - 4s 895us/step - loss: 0.0934 - accuracy: 0.9708\n",
      "Epoch 2/100\n",
      "4000/4000 [==============================] - 4s 991us/step - loss: 0.0715 - accuracy: 0.9801\n",
      "Epoch 3/100\n",
      "4000/4000 [==============================] - 4s 932us/step - loss: 0.0678 - accuracy: 0.9809\n",
      "Epoch 4/100\n",
      "4000/4000 [==============================] - 4s 889us/step - loss: 0.0624 - accuracy: 0.9824\n",
      "Epoch 5/100\n",
      "4000/4000 [==============================] - 3s 866us/step - loss: 0.0612 - accuracy: 0.9827\n",
      "Epoch 6/100\n",
      "4000/4000 [==============================] - 3s 838us/step - loss: 0.0596 - accuracy: 0.9821\n",
      "Epoch 7/100\n",
      "4000/4000 [==============================] - 3s 859us/step - loss: 0.0579 - accuracy: 0.9840\n",
      "Epoch 8/100\n",
      "4000/4000 [==============================] - 4s 903us/step - loss: 0.0573 - accuracy: 0.9830\n",
      "Epoch 9/100\n",
      "4000/4000 [==============================] - 4s 883us/step - loss: 0.0549 - accuracy: 0.9840\n",
      "Epoch 10/100\n",
      "4000/4000 [==============================] - 4s 894us/step - loss: 0.0542 - accuracy: 0.9836\n",
      "Epoch 11/100\n",
      "4000/4000 [==============================] - 4s 960us/step - loss: 0.0618 - accuracy: 0.9819\n",
      "Epoch 12/100\n",
      "4000/4000 [==============================] - 3s 827us/step - loss: 0.0554 - accuracy: 0.9833\n",
      "Epoch 13/100\n",
      "4000/4000 [==============================] - 3s 860us/step - loss: 0.0524 - accuracy: 0.9845\n",
      "Epoch 14/100\n",
      "4000/4000 [==============================] - 3s 828us/step - loss: 0.0569 - accuracy: 0.9829\n",
      "Epoch 15/100\n",
      "4000/4000 [==============================] - 3s 857us/step - loss: 0.0515 - accuracy: 0.9845\n",
      "Epoch 16/100\n",
      "4000/4000 [==============================] - 3s 826us/step - loss: 0.0569 - accuracy: 0.9838\n",
      "Epoch 17/100\n",
      "4000/4000 [==============================] - 3s 844us/step - loss: 0.0524 - accuracy: 0.9841\n",
      "Epoch 18/100\n",
      "4000/4000 [==============================] - 3s 829us/step - loss: 0.0568 - accuracy: 0.9821\n",
      "Epoch 19/100\n",
      "4000/4000 [==============================] - 3s 808us/step - loss: 0.0552 - accuracy: 0.9836\n",
      "Epoch 20/100\n",
      "4000/4000 [==============================] - 3s 841us/step - loss: 0.0578 - accuracy: 0.9828\n",
      "Epoch 21/100\n",
      "4000/4000 [==============================] - 4s 913us/step - loss: 0.0551 - accuracy: 0.9832\n",
      "Epoch 22/100\n",
      "4000/4000 [==============================] - 4s 884us/step - loss: 0.0538 - accuracy: 0.9842\n",
      "Epoch 23/100\n",
      "4000/4000 [==============================] - 4s 1ms/step - loss: 0.0486 - accuracy: 0.9857\n",
      "Epoch 24/100\n",
      "4000/4000 [==============================] - 4s 925us/step - loss: 0.0543 - accuracy: 0.9835\n",
      "Epoch 25/100\n",
      "4000/4000 [==============================] - 3s 821us/step - loss: 0.0532 - accuracy: 0.9841\n",
      "Epoch 26/100\n",
      "4000/4000 [==============================] - 3s 809us/step - loss: 0.0561 - accuracy: 0.9838\n",
      "Epoch 27/100\n",
      "4000/4000 [==============================] - 3s 827us/step - loss: 0.0538 - accuracy: 0.9838\n",
      "Epoch 28/100\n",
      "4000/4000 [==============================] - 3s 859us/step - loss: 0.0510 - accuracy: 0.9846\n",
      "Epoch 29/100\n",
      "4000/4000 [==============================] - 3s 831us/step - loss: 0.0555 - accuracy: 0.9835\n",
      "Epoch 30/100\n",
      "4000/4000 [==============================] - 3s 815us/step - loss: 0.0509 - accuracy: 0.9842\n",
      "Epoch 31/100\n",
      "4000/4000 [==============================] - 3s 814us/step - loss: 0.0484 - accuracy: 0.9858\n",
      "Epoch 32/100\n",
      "4000/4000 [==============================] - 3s 822us/step - loss: 0.0508 - accuracy: 0.9847\n",
      "Epoch 33/100\n",
      "4000/4000 [==============================] - 3s 795us/step - loss: 0.0510 - accuracy: 0.9848\n",
      "Epoch 34/100\n",
      "4000/4000 [==============================] - 3s 791us/step - loss: 0.0533 - accuracy: 0.9845\n",
      "Epoch 35/100\n",
      "4000/4000 [==============================] - 3s 791us/step - loss: 0.0505 - accuracy: 0.9846\n",
      "Epoch 36/100\n",
      "4000/4000 [==============================] - 3s 803us/step - loss: 0.0552 - accuracy: 0.9837\n",
      "Epoch 37/100\n",
      "4000/4000 [==============================] - 3s 797us/step - loss: 0.0539 - accuracy: 0.9843\n",
      "Epoch 38/100\n",
      "4000/4000 [==============================] - 3s 835us/step - loss: 0.0512 - accuracy: 0.9848\n",
      "Epoch 39/100\n",
      "4000/4000 [==============================] - 3s 855us/step - loss: 0.0521 - accuracy: 0.9851\n",
      "Epoch 40/100\n",
      "4000/4000 [==============================] - 4s 978us/step - loss: 0.0524 - accuracy: 0.9840\n",
      "Epoch 41/100\n",
      "4000/4000 [==============================] - 4s 1ms/step - loss: 0.0479 - accuracy: 0.9857\n",
      "Epoch 42/100\n",
      "4000/4000 [==============================] - 4s 895us/step - loss: 0.0505 - accuracy: 0.9844\n",
      "Epoch 43/100\n",
      "4000/4000 [==============================] - 4s 990us/step - loss: 0.0494 - accuracy: 0.9845\n",
      "Epoch 44/100\n",
      "4000/4000 [==============================] - 4s 888us/step - loss: 0.0477 - accuracy: 0.9862\n",
      "Epoch 45/100\n",
      "4000/4000 [==============================] - 4s 923us/step - loss: 0.0497 - accuracy: 0.9849\n",
      "Epoch 46/100\n",
      "4000/4000 [==============================] - 4s 894us/step - loss: 0.0474 - accuracy: 0.9861\n",
      "Epoch 47/100\n",
      "4000/4000 [==============================] - 3s 863us/step - loss: 0.0532 - accuracy: 0.9837\n",
      "Epoch 48/100\n",
      "4000/4000 [==============================] - 3s 863us/step - loss: 0.0481 - accuracy: 0.9853\n",
      "Epoch 49/100\n",
      "4000/4000 [==============================] - 4s 1ms/step - loss: 0.0526 - accuracy: 0.9850\n",
      "Epoch 50/100\n",
      "4000/4000 [==============================] - 3s 844us/step - loss: 0.0503 - accuracy: 0.9849\n",
      "Epoch 51/100\n",
      "4000/4000 [==============================] - 3s 822us/step - loss: 0.0528 - accuracy: 0.9853\n",
      "Epoch 52/100\n",
      "4000/4000 [==============================] - 3s 805us/step - loss: 0.0476 - accuracy: 0.9860\n",
      "Epoch 53/100\n",
      "4000/4000 [==============================] - 3s 803us/step - loss: 0.0498 - accuracy: 0.9849\n",
      "Epoch 54/100\n",
      "4000/4000 [==============================] - 4s 891us/step - loss: 0.0483 - accuracy: 0.9862\n",
      "Epoch 55/100\n",
      "4000/4000 [==============================] - 3s 853us/step - loss: 0.0495 - accuracy: 0.9851\n",
      "Epoch 56/100\n",
      "4000/4000 [==============================] - 4s 907us/step - loss: 0.0488 - accuracy: 0.9847\n",
      "Epoch 57/100\n",
      "4000/4000 [==============================] - 3s 829us/step - loss: 0.0494 - accuracy: 0.9858\n",
      "Epoch 58/100\n",
      "4000/4000 [==============================] - 3s 822us/step - loss: 0.0540 - accuracy: 0.9839\n",
      "Epoch 59/100\n",
      "4000/4000 [==============================] - 3s 867us/step - loss: 0.0492 - accuracy: 0.9856\n",
      "Epoch 60/100\n",
      "4000/4000 [==============================] - 3s 847us/step - loss: 0.0491 - accuracy: 0.9853\n",
      "Epoch 61/100\n",
      "4000/4000 [==============================] - 4s 895us/step - loss: 0.0477 - accuracy: 0.9857\n",
      "Epoch 62/100\n",
      "4000/4000 [==============================] - 3s 842us/step - loss: 0.0481 - accuracy: 0.9852\n",
      "Epoch 63/100\n",
      "4000/4000 [==============================] - 3s 832us/step - loss: 0.0479 - accuracy: 0.9857\n",
      "Epoch 64/100\n",
      "4000/4000 [==============================] - 4s 971us/step - loss: 0.0466 - accuracy: 0.9859\n",
      "Epoch 65/100\n",
      "4000/4000 [==============================] - 4s 886us/step - loss: 0.0477 - accuracy: 0.9860\n",
      "Epoch 66/100\n",
      "4000/4000 [==============================] - 3s 868us/step - loss: 0.0465 - accuracy: 0.9861\n",
      "Epoch 67/100\n",
      "4000/4000 [==============================] - 3s 870us/step - loss: 0.0474 - accuracy: 0.9862\n",
      "Epoch 68/100\n",
      "4000/4000 [==============================] - 4s 897us/step - loss: 0.0468 - accuracy: 0.9861\n",
      "Epoch 69/100\n",
      "4000/4000 [==============================] - 4s 877us/step - loss: 0.0465 - accuracy: 0.9865\n",
      "Epoch 70/100\n",
      "4000/4000 [==============================] - 3s 868us/step - loss: 0.0506 - accuracy: 0.9852\n",
      "Epoch 71/100\n",
      "4000/4000 [==============================] - 3s 874us/step - loss: 0.0468 - accuracy: 0.9868\n",
      "Epoch 72/100\n",
      "4000/4000 [==============================] - 4s 937us/step - loss: 0.0484 - accuracy: 0.9861\n",
      "Epoch 73/100\n",
      "4000/4000 [==============================] - 4s 896us/step - loss: 0.0470 - accuracy: 0.9861\n",
      "Epoch 74/100\n",
      "4000/4000 [==============================] - 4s 937us/step - loss: 0.0495 - accuracy: 0.9855\n",
      "Epoch 75/100\n",
      "4000/4000 [==============================] - 4s 900us/step - loss: 0.0472 - accuracy: 0.9858\n",
      "Epoch 76/100\n",
      "4000/4000 [==============================] - 4s 1ms/step - loss: 0.0466 - accuracy: 0.9860\n",
      "Epoch 77/100\n",
      "4000/4000 [==============================] - 3s 873us/step - loss: 0.0493 - accuracy: 0.9852\n",
      "Epoch 78/100\n",
      "4000/4000 [==============================] - 3s 856us/step - loss: 0.0482 - accuracy: 0.9856\n",
      "Epoch 79/100\n",
      "4000/4000 [==============================] - 4s 934us/step - loss: 0.0483 - accuracy: 0.9860\n",
      "Epoch 80/100\n",
      "4000/4000 [==============================] - 4s 882us/step - loss: 0.0446 - accuracy: 0.9867\n",
      "Epoch 81/100\n",
      "4000/4000 [==============================] - 3s 865us/step - loss: 0.0458 - accuracy: 0.9854\n",
      "Epoch 82/100\n",
      "4000/4000 [==============================] - 4s 977us/step - loss: 0.0514 - accuracy: 0.9850\n",
      "Epoch 83/100\n",
      "4000/4000 [==============================] - 4s 965us/step - loss: 0.0475 - accuracy: 0.9860\n",
      "Epoch 84/100\n",
      "4000/4000 [==============================] - 3s 811us/step - loss: 0.0465 - accuracy: 0.9860\n",
      "Epoch 85/100\n",
      "4000/4000 [==============================] - 3s 825us/step - loss: 0.0471 - accuracy: 0.9852\n",
      "Epoch 86/100\n",
      "4000/4000 [==============================] - 3s 853us/step - loss: 0.0485 - accuracy: 0.9853\n",
      "Epoch 87/100\n",
      "4000/4000 [==============================] - 3s 857us/step - loss: 0.0464 - accuracy: 0.9864\n",
      "Epoch 88/100\n",
      "4000/4000 [==============================] - 4s 884us/step - loss: 0.0464 - accuracy: 0.9858\n",
      "Epoch 89/100\n",
      "4000/4000 [==============================] - 3s 792us/step - loss: 0.0451 - accuracy: 0.9864\n",
      "Epoch 90/100\n",
      "4000/4000 [==============================] - 3s 825us/step - loss: 0.0514 - accuracy: 0.9851\n",
      "Epoch 91/100\n",
      "4000/4000 [==============================] - 3s 832us/step - loss: 0.0473 - accuracy: 0.9861\n",
      "Epoch 92/100\n",
      "4000/4000 [==============================] - 3s 811us/step - loss: 0.0460 - accuracy: 0.9858\n",
      "Epoch 93/100\n",
      "4000/4000 [==============================] - 3s 784us/step - loss: 0.0461 - accuracy: 0.9856\n",
      "Epoch 94/100\n",
      "4000/4000 [==============================] - 3s 794us/step - loss: 0.0468 - accuracy: 0.9857\n",
      "Epoch 95/100\n",
      "4000/4000 [==============================] - 3s 802us/step - loss: 0.0450 - accuracy: 0.9867\n",
      "Epoch 96/100\n",
      "4000/4000 [==============================] - 3s 852us/step - loss: 0.0468 - accuracy: 0.9862\n",
      "Epoch 97/100\n",
      "4000/4000 [==============================] - 4s 877us/step - loss: 0.0477 - accuracy: 0.9855\n",
      "Epoch 98/100\n",
      "4000/4000 [==============================] - 4s 903us/step - loss: 0.0457 - accuracy: 0.9868\n",
      "Epoch 99/100\n",
      "4000/4000 [==============================] - 4s 897us/step - loss: 0.0464 - accuracy: 0.9849\n",
      "Epoch 100/100\n",
      "4000/4000 [==============================] - 3s 832us/step - loss: 0.0441 - accuracy: 0.9865\n"
     ]
    },
    {
     "data": {
      "text/plain": [
       "<tensorflow.python.keras.callbacks.History at 0x1fb4a3ddc70>"
      ]
     },
     "execution_count": 238,
     "metadata": {},
     "output_type": "execute_result"
    }
   ],
   "source": [
    "model.fit(X_train, y_train, batch_size = 10, epochs = 100)"
   ]
  },
  {
   "cell_type": "code",
   "execution_count": 306,
   "metadata": {},
   "outputs": [
    {
     "name": "stdout",
     "output_type": "stream",
     "text": [
      "Model: \"sequential_1\"\n",
      "_________________________________________________________________\n",
      "Layer (type)                 Output Shape              Param #   \n",
      "=================================================================\n",
      "dense_4 (Dense)              (None, 256)               1280      \n",
      "_________________________________________________________________\n",
      "dense_5 (Dense)              (None, 128)               32896     \n",
      "_________________________________________________________________\n",
      "dense_6 (Dense)              (None, 64)                8256      \n",
      "_________________________________________________________________\n",
      "dense_7 (Dense)              (None, 2)                 130       \n",
      "=================================================================\n",
      "Total params: 42,562\n",
      "Trainable params: 42,562\n",
      "Non-trainable params: 0\n",
      "_________________________________________________________________\n",
      "None\n"
     ]
    }
   ],
   "source": [
    "print(model.summary())"
   ]
  },
  {
   "cell_type": "code",
   "execution_count": 307,
   "metadata": {},
   "outputs": [
    {
     "data": {
      "text/plain": [
       "10000"
      ]
     },
     "execution_count": 307,
     "metadata": {},
     "output_type": "execute_result"
    }
   ],
   "source": [
    "ypredann = model.predict(X)\n",
    "y_predannf = np.argmax(ypredann,axis=1)\n",
    "yann_ta = np.argmax(y_test,axis=1)\n",
    "len(yann_ta)"
   ]
  },
  {
   "cell_type": "code",
   "execution_count": 308,
   "metadata": {},
   "outputs": [
    {
     "name": "stdout",
     "output_type": "stream",
     "text": [
      "Precision Score= 0.9822410167664197\n",
      "Recall Score= 0.9684530305681796\n",
      "f1_score= 0.9751823929860267\n"
     ]
    }
   ],
   "source": [
    "y_predannf = np.argmax(ypredann,axis=1)\n",
    "yann_ta = np.argmax(dummy_y,axis=1)\n",
    "yann_ta\n",
    " #Print f1, precision, and recall scores\n",
    "print(\"Precision Score=\",precision_score(yann_ta, y_predannf , average=\"macro\"))\n",
    "print(\"Recall Score=\",recall_score(yann_ta, y_predannf , average=\"macro\"))\n",
    "print(\"f1_score=\",f1_score(yann_ta, y_predannf , average=\"macro\"))#Yessss baby"
   ]
  },
  {
   "cell_type": "code",
   "execution_count": 281,
   "metadata": {},
   "outputs": [
    {
     "data": {
      "text/plain": [
       "10000"
      ]
     },
     "execution_count": 281,
     "metadata": {},
     "output_type": "execute_result"
    }
   ],
   "source": [
    "len(y_predannf)"
   ]
  },
  {
   "cell_type": "code",
   "execution_count": 284,
   "metadata": {},
   "outputs": [
    {
     "name": "stdout",
     "output_type": "stream",
     "text": [
      "0.9822410167664197\n",
      "0.9684530305681796\n",
      "0.9751823929860267\n"
     ]
    }
   ],
   "source": [
    "ypredann = model.predict(X)\n",
    "y_predannf = np.argmax(ypredann,axis=1)\n",
    "yann_ta = np.argmax(dummy_y,axis=1)\n",
    "yann_ta\n",
    " #Print f1, precision, and recall scores\n",
    "print(precision_score(yann_ta, y_predannf , average=\"macro\"))\n",
    "print(recall_score(yann_ta, y_predannf , average=\"macro\"))\n",
    "print(f1_score(yann_ta, y_predannf , average=\"macro\"))#Yessss baby"
   ]
  },
  {
   "cell_type": "code",
   "execution_count": 288,
   "metadata": {},
   "outputs": [],
   "source": [
    "#predicted = cross_val_predict(clf, X, dummy_y, cv=10)\n",
    "from sklearn.model_selection import cross_val_score\n",
    "from keras.wrappers.scikit_learn import KerasClassifier"
   ]
  },
  {
   "cell_type": "code",
   "execution_count": 294,
   "metadata": {},
   "outputs": [],
   "source": [
    "def build_model():\n",
    "    \n",
    "    model=Sequential()\n",
    "    model.add(Dense(256,activation='relu'))\n",
    "    model.add(Dense(128,activation='relu'))\n",
    "    model.add(Dense(64,activation='relu'))\n",
    "    model.add(Dense(2,activation='softmax'))\n",
    "    model.compile(loss='categorical_crossentropy', metrics=['accuracy'], optimizer='adam')\n",
    "\n",
    "    return model"
   ]
  },
  {
   "cell_type": "code",
   "execution_count": 296,
   "metadata": {},
   "outputs": [
    {
     "name": "stdout",
     "output_type": "stream",
     "text": [
      "4500/4500 [==============================] - 4s 884us/step - loss: 0.0928 - accuracy: 0.9693\n",
      "500/500 [==============================] - 0s 529us/step - loss: 0.0723 - accuracy: 0.9786\n",
      "4500/4500 [==============================] - 4s 855us/step - loss: 0.0901 - accuracy: 0.9720\n",
      "500/500 [==============================] - 0s 521us/step - loss: 0.0707 - accuracy: 0.9822\n",
      "4500/4500 [==============================] - 4s 913us/step - loss: 0.0906 - accuracy: 0.9709\n",
      "500/500 [==============================] - 0s 571us/step - loss: 0.0670 - accuracy: 0.9804\n",
      "4500/4500 [==============================] - 4s 872us/step - loss: 0.0921 - accuracy: 0.9705\n",
      "500/500 [==============================] - 1s 621us/step - loss: 0.0601 - accuracy: 0.9848\n",
      "4500/4500 [==============================] - 4s 884us/step - loss: 0.0918 - accuracy: 0.9720\n",
      "500/500 [==============================] - 0s 587us/step - loss: 0.0714 - accuracy: 0.9820\n",
      "4500/4500 [==============================] - 4s 890us/step - loss: 0.0934 - accuracy: 0.9710\n",
      "500/500 [==============================] - 0s 555us/step - loss: 0.0804 - accuracy: 0.9762\n",
      "4500/4500 [==============================] - 4s 857us/step - loss: 0.0912 - accuracy: 0.9708\n",
      "500/500 [==============================] - 0s 539us/step - loss: 0.0576 - accuracy: 0.9824\n",
      "4500/4500 [==============================] - 4s 906us/step - loss: 0.0929 - accuracy: 0.9714\n",
      "500/500 [==============================] - 0s 483us/step - loss: 0.0736 - accuracy: 0.9800\n",
      "4500/4500 [==============================] - 4s 837us/step - loss: 0.0948 - accuracy: 0.9698\n",
      "500/500 [==============================] - 0s 491us/step - loss: 0.0622 - accuracy: 0.9832\n",
      "4500/4500 [==============================] - 5s 933us/step - loss: 0.0941 - accuracy: 0.9696\n",
      "500/500 [==============================] - 0s 521us/step - loss: 0.0627 - accuracy: 0.9838\n"
     ]
    }
   ],
   "source": [
    "classifier = KerasClassifier(build_fn = build_model,\n",
    "\t\t\t\t\t\t\t batch_size = 10,\n",
    "\t\t\t\t\t\t\t nb_epoch = 100 )\n",
    "\n",
    "accuracies = cross_val_score(\n",
    "\t\testimator=classifier,\n",
    "\t\tX = X,\n",
    "\t\ty = dummy_y,\n",
    "\t\tcv=10\n",
    "\t\t)"
   ]
  },
  {
   "cell_type": "code",
   "execution_count": 298,
   "metadata": {},
   "outputs": [
    {
     "data": {
      "text/plain": [
       "0.9813600063323975"
      ]
     },
     "execution_count": 298,
     "metadata": {},
     "output_type": "execute_result"
    }
   ],
   "source": [
    "mean = accuracies.mean() #accuracry after 10-fold cross validation\n",
    "mean"
   ]
  },
  {
   "cell_type": "code",
   "execution_count": null,
   "metadata": {},
   "outputs": [],
   "source": []
  },
  {
   "cell_type": "markdown",
   "metadata": {},
   "source": [
    "# Clustering\n"
   ]
  },
  {
   "cell_type": "code",
   "execution_count": 75,
   "metadata": {},
   "outputs": [],
   "source": [
    "x, y=get_features_targetss(data)"
   ]
  },
  {
   "cell_type": "code",
   "execution_count": 76,
   "metadata": {},
   "outputs": [],
   "source": [
    "from sklearn.cluster import KMeans"
   ]
  },
  {
   "cell_type": "code",
   "execution_count": 83,
   "metadata": {},
   "outputs": [],
   "source": [
    "kmeans = KMeans(n_clusters = 2, init = 'k-means++', max_iter = 300, n_init = 10, random_state = 0)\n",
    "y_kmeans = kmeans.fit_predict(x)"
   ]
  },
  {
   "cell_type": "code",
   "execution_count": 84,
   "metadata": {},
   "outputs": [
    {
     "data": {
      "text/plain": [
       "<matplotlib.legend.Legend at 0x1fb488b4340>"
      ]
     },
     "execution_count": 84,
     "metadata": {},
     "output_type": "execute_result"
    },
    {
     "data": {
      "image/png": "[encoded data removed]",
      "text/plain": [
       "<Figure size 432x288 with 1 Axes>"
      ]
     },
     "metadata": {
      "needs_background": "light"
     },
     "output_type": "display_data"
    }
   ],
   "source": [
    "plt.scatter(x[y_kmeans == 0, 0], x[y_kmeans == 0, 1], s = 100, c = 'red', label = 'Galaxy')\n",
    "plt.scatter(x[y_kmeans == 1, 0], x[y_kmeans == 1, 1], s = 100, c = 'blue', label = 'QSO')\n",
    "\n",
    "#Plotting the centroids of the clusters\n",
    "plt.scatter(kmeans.cluster_centers_[:, 0], kmeans.cluster_centers_[:,1], s = 100, c = 'yellow', label = 'Centroids')\n",
    "\n",
    "plt.legend()"
   ]
  },
  {
   "cell_type": "code",
   "execution_count": 79,
   "metadata": {},
   "outputs": [],
   "source": [
    "from sklearn.preprocessing import MinMaxScaler\n",
    "\n",
    "# fit scaler on training data\n",
    "norm = MinMaxScaler().fit(x)\n",
    "\n",
    "# transform training data\n",
    "x_norm = norm.transform(x)"
   ]
  },
  {
   "cell_type": "code",
   "execution_count": 85,
   "metadata": {},
   "outputs": [],
   "source": [
    "kmeans = KMeans(n_clusters = 2, init = 'k-means++', max_iter = 300, n_init = 10, random_state = 0)\n",
    "y_kmeans_norm = kmeans.fit_predict(x_norm)"
   ]
  },
  {
   "cell_type": "code",
   "execution_count": 87,
   "metadata": {},
   "outputs": [
    {
     "data": {
      "text/plain": [
       "<matplotlib.legend.Legend at 0x1fb489626a0>"
      ]
     },
     "execution_count": 87,
     "metadata": {},
     "output_type": "execute_result"
    },
    {
     "data": {
      "image/png": "[encoded data removed]",
      "text/plain": [
       "<Figure size 432x288 with 1 Axes>"
      ]
     },
     "metadata": {
      "needs_background": "light"
     },
     "output_type": "display_data"
    }
   ],
   "source": [
    "plt.scatter(x_norm[y_kmeans_norm == 0, 0], x_norm[y_kmeans_norm == 0, 1], s = 100, c = 'red', label = 'Galaxy')\n",
    "plt.scatter(x_norm[y_kmeans_norm == 1, 0], x_norm[y_kmeans_norm == 1, 1], s = 100, c = 'blue', label = 'QSO')\n",
    "\n",
    "#Plotting the centroids of the clusters\n",
    "plt.scatter(kmeans.cluster_centers_[:, 0], kmeans.cluster_centers_[:,1], s = 100, c = 'yellow', label = 'Centroids')\n",
    "\n",
    "plt.legend()"
   ]
  },
  {
   "cell_type": "code",
   "execution_count": 82,
   "metadata": {},
   "outputs": [
    {
     "data": {
      "text/plain": [
       "array([b'QSO', b'GALAXY', b'GALAXY', ..., b'GALAXY', b'QSO', b'QSO'],\n",
       "      dtype='|S6')"
      ]
     },
     "execution_count": 82,
     "metadata": {},
     "output_type": "execute_result"
    }
   ],
   "source": [
    "y"
   ]
  },
  {
   "cell_type": "code",
   "execution_count": 94,
   "metadata": {},
   "outputs": [
    {
     "data": {
      "text/plain": [
       "array([1, 0, 0, ..., 0, 1, 1])"
      ]
     },
     "execution_count": 94,
     "metadata": {},
     "output_type": "execute_result"
    }
   ],
   "source": [
    "y_kmeans_norm"
   ]
  },
  {
   "cell_type": "code",
   "execution_count": 100,
   "metadata": {},
   "outputs": [],
   "source": [
    "c=0\n",
    "for a in range(49999):\n",
    "    if y[a]==b'QSO'and y_kmeans[a]==1:\n",
    "        c+=1\n",
    "    elif y[a]==b'GALAXY' and y_kmeans[a]==0:\n",
    "        c+=1\n",
    "    else:\n",
    "        c=c\n",
    "        \n",
    "    \n",
    "    \n",
    "    "
   ]
  },
  {
   "cell_type": "code",
   "execution_count": 101,
   "metadata": {},
   "outputs": [
    {
     "data": {
      "text/plain": [
       "45658"
      ]
     },
     "execution_count": 101,
     "metadata": {},
     "output_type": "execute_result"
    }
   ],
   "source": [
    "c"
   ]
  },
  {
   "cell_type": "code",
   "execution_count": 102,
   "metadata": {},
   "outputs": [],
   "source": [
    "accuracy=c/50000"
   ]
  },
  {
   "cell_type": "code",
   "execution_count": 103,
   "metadata": {},
   "outputs": [
    {
     "data": {
      "text/plain": [
       "0.91316"
      ]
     },
     "execution_count": 103,
     "metadata": {},
     "output_type": "execute_result"
    }
   ],
   "source": [
    "accuracy "
   ]
  },
  {
   "cell_type": "code",
   "execution_count": 104,
   "metadata": {},
   "outputs": [],
   "source": [
    "d=0\n",
    "for a in range(49999):\n",
    "    if y[a]==b'QSO'and y_kmeans_norm[a]==1:\n",
    "        d+=1\n",
    "    elif y[a]==b'GALAXY' and y_kmeans_norm[a]==0:\n",
    "        d+=1\n",
    "    else:\n",
    "        d=d"
   ]
  },
  {
   "cell_type": "code",
   "execution_count": 105,
   "metadata": {},
   "outputs": [
    {
     "data": {
      "text/plain": [
       "45286"
      ]
     },
     "execution_count": 105,
     "metadata": {},
     "output_type": "execute_result"
    }
   ],
   "source": [
    "d"
   ]
  },
  {
   "cell_type": "code",
   "execution_count": 107,
   "metadata": {},
   "outputs": [
    {
     "data": {
      "text/plain": [
       "0.90572"
      ]
     },
     "execution_count": 107,
     "metadata": {},
     "output_type": "execute_result"
    }
   ],
   "source": [
    "a=d/50000\n",
    "a"
   ]
  },
  {
   "cell_type": "code",
   "execution_count": 112,
   "metadata": {},
   "outputs": [
    {
     "data": {
      "text/plain": [
       "0.5820626955348395"
      ]
     },
     "execution_count": 112,
     "metadata": {},
     "output_type": "execute_result"
    }
   ],
   "source": [
    "from sklearn import metrics\n",
    "score = metrics.silhouette_score(x_norm, y_kmeans_norm)\n",
    "score"
   ]
  },
  {
   "cell_type": "code",
   "execution_count": 113,
   "metadata": {},
   "outputs": [
    {
     "data": {
      "text/plain": [
       "0.5844423765926534"
      ]
     },
     "execution_count": 113,
     "metadata": {},
     "output_type": "execute_result"
    }
   ],
   "source": [
    "from sklearn import metrics\n",
    "score = metrics.silhouette_score(x, y_kmeans)\n",
    "score"
   ]
  },
  {
   "cell_type": "code",
   "execution_count": 114,
   "metadata": {},
   "outputs": [
    {
     "name": "stderr",
     "output_type": "stream",
     "text": [
      "C:\\Users\\user\\anaconda3\\lib\\site-packages\\seaborn\\distributions.py:2551: FutureWarning: `distplot` is a deprecated function and will be removed in a future version. Please adapt your code to use either `displot` (a figure-level function with similar flexibility) or `histplot` (an axes-level function for histograms).\n",
      "  warnings.warn(msg, FutureWarning)\n"
     ]
    },
    {
     "data": {
      "text/plain": [
       "<AxesSubplot:ylabel='Density'>"
      ]
     },
     "execution_count": 114,
     "metadata": {},
     "output_type": "execute_result"
    },
    {
     "data": {
      "image/png": "[encoded data removed]",
      "text/plain": [
       "<Figure size 432x288 with 1 Axes>"
      ]
     },
     "metadata": {
      "needs_background": "light"
     },
     "output_type": "display_data"
    }
   ],
   "source": [
    "scores = metrics.silhouette_samples(x_norm, y_kmeans_norm)\n",
    "sns.distplot(scores)"
   ]
  },
  {
   "cell_type": "code",
   "execution_count": 119,
   "metadata": {},
   "outputs": [
    {
     "data": {
      "text/plain": [
       "array([(19.84132, 19.52656, 19.46946, 19.17955, 19.10763, b'QSO', 0.539301  , 6.543622e-05),\n",
       "       (19.86318, 18.66298, 17.84272, 17.38978, 17.14313, b'GALAXY', 0.1645703 , 1.186625e-05),\n",
       "       (19.97362, 18.31421, 17.47922, 17.0744 , 16.76174, b'GALAXY', 0.04190006, 2.183788e-05),\n",
       "       ...,\n",
       "       (19.82667, 18.10038, 17.16133, 16.5796 , 16.19755, b'GALAXY', 0.0784592 , 2.159406e-05),\n",
       "       (19.98672, 19.75385, 19.5713 , 19.27739, 19.25895, b'QSO', 1.567295  , 4.505933e-04),\n",
       "       (18.00024, 17.80957, 17.77302, 17.72663, 17.7264 , b'QSO', 0.4749449 , 6.203324e-05)],\n",
       "      dtype=[('u', '<f8'), ('g', '<f8'), ('r', '<f8'), ('i', '<f8'), ('z', '<f8'), ('spec_class', 'S6'), ('redshift', '<f8'), ('redshift_err', '<f8')])"
      ]
     },
     "execution_count": 119,
     "metadata": {},
     "output_type": "execute_result"
    }
   ],
   "source": [
    "data"
   ]
  },
  {
   "cell_type": "code",
   "execution_count": 120,
   "metadata": {},
   "outputs": [
    {
     "data": {
      "text/plain": [
       "array([b'QSO', b'GALAXY', b'GALAXY', ..., b'GALAXY', b'QSO', b'QSO'],\n",
       "      dtype='|S6')"
      ]
     },
     "execution_count": 120,
     "metadata": {},
     "output_type": "execute_result"
    }
   ],
   "source": [
    "data['spec_class']"
   ]
  },
  {
   "cell_type": "code",
   "execution_count": 121,
   "metadata": {},
   "outputs": [
    {
     "data": {
      "image/png": "[encoded data removed]",
      "text/plain": [
       "<Figure size 432x288 with 2 Axes>"
      ]
     },
     "metadata": {
      "needs_background": "light"
     },
     "output_type": "display_data"
    }
   ],
   "source": [
    "df_scores = pd.DataFrame()\n",
    "df_scores['SilhouetteScore'] = scores\n",
    "df_scores['Class'] = data['spec_class']\n",
    "df_scores.hist(by='Class', column='SilhouetteScore', range=(0,1.0), bins=20);"
   ]
  },
  {
   "cell_type": "code",
   "execution_count": 123,
   "metadata": {},
   "outputs": [
    {
     "name": "stderr",
     "output_type": "stream",
     "text": [
      "C:\\Users\\user\\anaconda3\\lib\\site-packages\\seaborn\\axisgrid.py:1912: UserWarning: The `size` parameter has been renamed to `height`; please update your code.\n",
      "  warnings.warn(msg, UserWarning)\n"
     ]
    },
    {
     "data": {
      "image/png": "[encoded data removed]",
      "text/plain": [
       "<Figure size 322.375x288 with 2 Axes>"
      ]
     },
     "metadata": {
      "needs_background": "light"
     },
     "output_type": "display_data"
    }
   ],
   "source": [
    "sns.pairplot(df_scores, hue=\"Class\", size=4);"
   ]
  },
  {
   "cell_type": "code",
   "execution_count": 126,
   "metadata": {},
   "outputs": [
    {
     "data": {
      "text/html": [
       "<div>\n",
       "<style scoped>\n",
       "    .dataframe tbody tr th:only-of-type {\n",
       "        vertical-align: middle;\n",
       "    }\n",
       "\n",
       "    .dataframe tbody tr th {\n",
       "        vertical-align: top;\n",
       "    }\n",
       "\n",
       "    .dataframe thead th {\n",
       "        text-align: right;\n",
       "    }\n",
       "</style>\n",
       "<table border=\"1\" class=\"dataframe\">\n",
       "  <thead>\n",
       "    <tr style=\"text-align: right;\">\n",
       "      <th></th>\n",
       "      <th>PC1</th>\n",
       "      <th>PC2</th>\n",
       "    </tr>\n",
       "  </thead>\n",
       "  <tbody>\n",
       "    <tr>\n",
       "      <th>43860</th>\n",
       "      <td>0.185564</td>\n",
       "      <td>-0.018401</td>\n",
       "    </tr>\n",
       "    <tr>\n",
       "      <th>13182</th>\n",
       "      <td>0.168887</td>\n",
       "      <td>-0.055148</td>\n",
       "    </tr>\n",
       "    <tr>\n",
       "      <th>1034</th>\n",
       "      <td>-0.092432</td>\n",
       "      <td>0.014895</td>\n",
       "    </tr>\n",
       "    <tr>\n",
       "      <th>1908</th>\n",
       "      <td>0.007622</td>\n",
       "      <td>-0.006628</td>\n",
       "    </tr>\n",
       "    <tr>\n",
       "      <th>39680</th>\n",
       "      <td>-0.102121</td>\n",
       "      <td>-0.027092</td>\n",
       "    </tr>\n",
       "  </tbody>\n",
       "</table>\n",
       "</div>"
      ],
      "text/plain": [
       "            PC1       PC2\n",
       "43860  0.185564 -0.018401\n",
       "13182  0.168887 -0.055148\n",
       "1034  -0.092432  0.014895\n",
       "1908   0.007622 -0.006628\n",
       "39680 -0.102121 -0.027092"
      ]
     },
     "execution_count": 126,
     "metadata": {},
     "output_type": "execute_result"
    }
   ],
   "source": [
    "from sklearn.decomposition import PCA\n",
    "\n",
    "ndimensions = 2\n",
    "\n",
    "pca = PCA(n_components=ndimensions, random_state=0)\n",
    "pca.fit(x_norm)\n",
    "X_pca_array = pca.transform(x_norm)\n",
    "X_pca = pd.DataFrame(X_pca_array, columns=['PC1','PC2']) # PC=principal component\n",
    "X_pca.sample(5)"
   ]
  },
  {
   "cell_type": "code",
   "execution_count": 312,
   "metadata": {},
   "outputs": [],
   "source": [
    "x=X_pca['PC1']\n",
    "y=X_pca['PC2']"
   ]
  },
  {
   "cell_type": "code",
   "execution_count": 314,
   "metadata": {},
   "outputs": [
    {
     "data": {
      "text/plain": [
       "<matplotlib.collections.PathCollection at 0x1fb6d1ae820>"
      ]
     },
     "execution_count": 314,
     "metadata": {},
     "output_type": "execute_result"
    },
    {
     "data": {
      "image/png": "[encoded data removed]",
      "text/plain": [
       "<Figure size 432x288 with 1 Axes>"
      ]
     },
     "metadata": {},
     "output_type": "display_data"
    }
   ],
   "source": [
    "plt.scatter(x, y, alpha=0.5)"
   ]
  },
  {
   "cell_type": "code",
   "execution_count": 131,
   "metadata": {},
   "outputs": [
    {
     "data": {
      "text/plain": [
       "array([1, 0, 0, ..., 0, 1, 1], dtype=int64)"
      ]
     },
     "execution_count": 131,
     "metadata": {},
     "output_type": "execute_result"
    }
   ],
   "source": [
    "from sklearn.mixture import GaussianMixture\n",
    "\n",
    "gmm = GaussianMixture(n_components=2)\n",
    "gmm.fit(x_norm)\n",
    "\n",
    "# predict the cluster for each data point\n",
    "y_cluster_gmm = gmm.predict(x_norm)\n",
    "y_cluster_gmm"
   ]
  },
  {
   "cell_type": "code",
   "execution_count": 133,
   "metadata": {},
   "outputs": [
    {
     "data": {
      "text/plain": [
       "0.6180281845499223"
      ]
     },
     "execution_count": 133,
     "metadata": {},
     "output_type": "execute_result"
    }
   ],
   "source": [
    "from sklearn.metrics.cluster import adjusted_rand_score\n",
    "\n",
    "# first let's see how the k-means clustering did - \n",
    "score = adjusted_rand_score(y, y_kmeans_norm)\n",
    "score"
   ]
  },
  {
   "cell_type": "code",
   "execution_count": 135,
   "metadata": {},
   "outputs": [
    {
     "data": {
      "text/plain": [
       "0.7334398326062945"
      ]
     },
     "execution_count": 135,
     "metadata": {},
     "output_type": "execute_result"
    }
   ],
   "source": [
    "score = adjusted_rand_score(y, y_cluster_gmm)\n",
    "score"
   ]
  },
  {
   "cell_type": "code",
   "execution_count": 136,
   "metadata": {},
   "outputs": [
    {
     "data": {
      "text/plain": [
       "<matplotlib.legend.Legend at 0x1fb48865e80>"
      ]
     },
     "execution_count": 136,
     "metadata": {},
     "output_type": "execute_result"
    },
    {
     "data": {
      "image/png": "[encoded data removed]",
      "text/plain": [
       "<Figure size 432x288 with 1 Axes>"
      ]
     },
     "metadata": {
      "needs_background": "light"
     },
     "output_type": "display_data"
    }
   ],
   "source": [
    "plt.scatter(x_norm[y_cluster_gmm == 0, 0], x_norm[y_cluster_gmm == 0, 1], s = 100, c = 'red', label = 'Galaxy')\n",
    "plt.scatter(x_norm[y_cluster_gmm == 1, 0], x_norm[y_cluster_gmm == 1, 1], s = 100, c = 'blue', label = 'QSO')\n",
    "plt.legend()"
   ]
  },
  {
   "cell_type": "code",
   "execution_count": 268,
   "metadata": {},
   "outputs": [
    {
     "data": {
      "text/plain": [
       "array([1, 0, 0, ..., 0, 1, 1], dtype=int64)"
      ]
     },
     "execution_count": 268,
     "metadata": {},
     "output_type": "execute_result"
    }
   ],
   "source": [
    "y_cluster_gmm"
   ]
  },
  {
   "cell_type": "code",
   "execution_count": 315,
   "metadata": {},
   "outputs": [
    {
     "data": {
      "image/png": "[encoded data removed]",
      "text/plain": [
       "<Figure size 640x480 with 1 Axes>"
      ]
     },
     "metadata": {},
     "output_type": "display_data"
    }
   ],
   "source": [
    "import matplotlib.pyplot as plt; plt.rcdefaults()\n",
    "import numpy as np\n",
    "import matplotlib.pyplot as plt\n",
    "\n",
    "objects = ('Logistic Regression', 'SVM', 'Random Forest', 'ANN(validation)')\n",
    "y_pos = np.arange(len(objects))\n",
    "performance = [0.98024, 0.98132, 0.98334, 0.98136]\n",
    "\n",
    "plt.bar(y_pos, performance, align='center', alpha=0.5)\n",
    "plt.xticks(y_pos, objects)\n",
    "plt.ylabel('Accuracy')\n",
    "plt.title('Machin Learning Technique')\n",
    "\n",
    "plt.show()"
   ]
  },
  {
   "cell_type": "code",
   "execution_count": null,
   "metadata": {},
   "outputs": [],
   "source": []
  }
 ],
 "metadata": {
  "colab": {
   "name": "DS-ML Project.ipynb",
   "provenance": [],
   "toc_visible": true
  },
  "kernelspec": {
   "display_name": "Python 3",
   "language": "python",
   "name": "python3"
  },
  "language_info": {
   "codemirror_mode": {
    "name": "ipython",
    "version": 3
   },
   "file_extension": ".py",
   "mimetype": "text/x-python",
   "name": "python",
   "nbconvert_exporter": "python",
   "pygments_lexer": "ipython3",
   "version": "3.8.5"
  }
 },
 "nbformat": 4,
 "nbformat_minor": 1
}
